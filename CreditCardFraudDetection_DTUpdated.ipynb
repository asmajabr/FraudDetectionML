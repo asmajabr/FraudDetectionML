{
  "nbformat": 4,
  "nbformat_minor": 0,
  "metadata": {
    "kernelspec": {
      "display_name": "Python 3",
      "language": "python",
      "name": "python3"
    },
    "language_info": {
      "codemirror_mode": {
        "name": "ipython",
        "version": 3
      },
      "file_extension": ".py",
      "mimetype": "text/x-python",
      "name": "python",
      "nbconvert_exporter": "python",
      "pygments_lexer": "ipython3",
      "version": "3.7.4"
    },
    "colab": {
      "name": "CreditCardFraudDetection_DTUpdated.ipynb",
      "provenance": [],
      "collapsed_sections": [
        "EzCP1zFLPB0-"
      ],
      "include_colab_link": true
    }
  },
  "cells": [
    {
      "cell_type": "markdown",
      "metadata": {
        "id": "view-in-github",
        "colab_type": "text"
      },
      "source": [
        "<a href=\"https://colab.research.google.com/github/asmajabr/FraudDetectionML/blob/master/CreditCardFraudDetection_DTUpdated.ipynb\" target=\"_parent\"><img src=\"https://colab.research.google.com/assets/colab-badge.svg\" alt=\"Open In Colab\"/></a>"
      ]
    },
    {
      "cell_type": "markdown",
      "metadata": {
        "id": "WXpnxtWRFwQW",
        "colab_type": "text"
      },
      "source": [
        "# Information about data set\n",
        "\n",
        "The datasets contains transactions made by credit cards in September 2013 by european cardholders. This dataset presents transactions that occurred in two days, where we have 492 frauds out of 284,807 transactions. The dataset is highly unbalanced, the positive class (frauds) account for 0.172% of all transactions.\n",
        "\n",
        "It contains only numerical input variables which are the result of a PCA transformation. Unfortunately, due to confidentiality issues, we cannot provide the original features and more background information about the data. Features V1, V2, ... V28 are the principal components obtained with PCA, the only features which have not been transformed with PCA are 'Time' and 'Amount'. Feature 'Time' contains the seconds elapsed between each transaction and the first transaction in the dataset. The feature 'Amount' is the transaction Amount, this feature can be used for example-dependant cost-senstive learning. **Feature 'Class' is the response variable and it takes value 1 in case of fraud and 0 otherwise.**\n",
        "\n",
        "Given the class imbalance ratio, we recommend measuring the accuracy using the Area Under the Precision-Recall Curve (AUPRC). Confusion matrix accuracy is not meaningful for unbalanced classification.\n",
        "\n",
        "The dataset has been collected and analysed during a research collaboration of Worldline and the Machine Learning Group (http://mlg.ulb.ac.be) of ULB (Université Libre de Bruxelles) on big data mining and fraud detection. "
      ]
    },
    {
      "cell_type": "markdown",
      "metadata": {
        "id": "s6BVNOhHFwQQ",
        "colab_type": "text"
      },
      "source": [
        "# Import Data from Drive [OK]\n",
        "\n",
        "Please download the data from https://www.kaggle.com/mlg-ulb/creditcardfraud\n",
        "\n",
        "Info about data: it is a CSV file, contains 31 features, the last feature is used to classify the transaction whether it is a fraud or not\n",
        "\n"
      ]
    },
    {
      "cell_type": "code",
      "metadata": {
        "id": "qj4vJhgIIE_l",
        "colab_type": "code",
        "colab": {
          "base_uri": "https://localhost:8080/",
          "height": 125
        },
        "outputId": "ad9f2444-d132-465c-f3fb-2f7d028c1137"
      },
      "source": [
        "from google.colab import drive\n",
        "drive.mount('/content/gdrive', force_remount=True)"
      ],
      "execution_count": 1,
      "outputs": [
        {
          "output_type": "stream",
          "text": [
            "Go to this URL in a browser: https://accounts.google.com/o/oauth2/auth?client_id=947318989803-6bn6qk8qdgf4n4g3pfee6491hc0brc4i.apps.googleusercontent.com&redirect_uri=urn%3aietf%3awg%3aoauth%3a2.0%3aoob&response_type=code&scope=email%20https%3a%2f%2fwww.googleapis.com%2fauth%2fdocs.test%20https%3a%2f%2fwww.googleapis.com%2fauth%2fdrive%20https%3a%2f%2fwww.googleapis.com%2fauth%2fdrive.photos.readonly%20https%3a%2f%2fwww.googleapis.com%2fauth%2fpeopleapi.readonly\n",
            "\n",
            "Enter your authorization code:\n",
            "··········\n",
            "Mounted at /content/gdrive\n"
          ],
          "name": "stdout"
        }
      ]
    },
    {
      "cell_type": "code",
      "metadata": {
        "id": "3zTlRkH1IaG_",
        "colab_type": "code",
        "colab": {}
      },
      "source": [
        "import os \n"
      ],
      "execution_count": 2,
      "outputs": []
    },
    {
      "cell_type": "code",
      "metadata": {
        "id": "ixAvYIe8IiL0",
        "colab_type": "code",
        "colab": {
          "base_uri": "https://localhost:8080/",
          "height": 141
        },
        "outputId": "37ced21e-3137-4cc8-a18b-650f414228ff"
      },
      "source": [
        "cwd = os.getcwd()\n",
        "print (cwd)\n",
        "!ls -lah"
      ],
      "execution_count": 3,
      "outputs": [
        {
          "output_type": "stream",
          "text": [
            "/content\n",
            "total 20K\n",
            "drwxr-xr-x 1 root root 4.0K Jun 26 15:08 .\n",
            "drwxr-xr-x 1 root root 4.0K Jun 26 15:01 ..\n",
            "drwxr-xr-x 1 root root 4.0K Jun 19 16:15 .config\n",
            "drwx------ 4 root root 4.0K Jun 26 15:08 gdrive\n",
            "drwxr-xr-x 1 root root 4.0K Jun 17 16:18 sample_data\n"
          ],
          "name": "stdout"
        }
      ]
    },
    {
      "cell_type": "code",
      "metadata": {
        "id": "1TP0XZeDoomw",
        "colab_type": "code",
        "colab": {
          "base_uri": "https://localhost:8080/",
          "height": 34
        },
        "outputId": "13441ddc-c5b7-449b-e926-84bd94604a83"
      },
      "source": [
        "!wc -l creditcard.csv\n"
      ],
      "execution_count": 5,
      "outputs": [
        {
          "output_type": "stream",
          "text": [
            "wc: creditcard.csv: No such file or directory\n"
          ],
          "name": "stdout"
        }
      ]
    },
    {
      "cell_type": "code",
      "metadata": {
        "id": "J-Wz7MNKKbus",
        "colab_type": "code",
        "colab": {
          "base_uri": "https://localhost:8080/",
          "height": 141
        },
        "outputId": "fd05a1e4-beb7-45ab-9f13-f6b87177501b"
      },
      "source": [
        "cwd = os.getcwd()\n",
        "print (cwd)\n",
        "!ls -lah"
      ],
      "execution_count": 6,
      "outputs": [
        {
          "output_type": "stream",
          "text": [
            "/content\n",
            "total 20K\n",
            "drwxr-xr-x 1 root root 4.0K Jun 26 15:08 .\n",
            "drwxr-xr-x 1 root root 4.0K Jun 26 15:01 ..\n",
            "drwxr-xr-x 1 root root 4.0K Jun 19 16:15 .config\n",
            "drwx------ 4 root root 4.0K Jun 26 15:08 gdrive\n",
            "drwxr-xr-x 1 root root 4.0K Jun 17 16:18 sample_data\n"
          ],
          "name": "stdout"
        }
      ]
    },
    {
      "cell_type": "code",
      "metadata": {
        "id": "yQFvJf4mKj2-",
        "colab_type": "code",
        "colab": {
          "base_uri": "https://localhost:8080/",
          "height": 217
        },
        "outputId": "8ecfaa80-5edf-45e6-8ac8-1b1a5f39db0f"
      },
      "source": [
        "import pandas as pd\n",
        "import seaborn as sns\n",
        "import matplotlib.pyplot as plt\n",
        "import numpy as np\n",
        "plt.style.use('ggplot')\n",
        "\n",
        "url = \"/content/gdrive/My Drive/creditcard.csv\"\n",
        "\n",
        "creditcard = pd.read_csv(url)\n",
        "\n",
        "creditcard.head()\n"
      ],
      "execution_count": 25,
      "outputs": [
        {
          "output_type": "execute_result",
          "data": {
            "text/html": [
              "<div>\n",
              "<style scoped>\n",
              "    .dataframe tbody tr th:only-of-type {\n",
              "        vertical-align: middle;\n",
              "    }\n",
              "\n",
              "    .dataframe tbody tr th {\n",
              "        vertical-align: top;\n",
              "    }\n",
              "\n",
              "    .dataframe thead th {\n",
              "        text-align: right;\n",
              "    }\n",
              "</style>\n",
              "<table border=\"1\" class=\"dataframe\">\n",
              "  <thead>\n",
              "    <tr style=\"text-align: right;\">\n",
              "      <th></th>\n",
              "      <th>Time</th>\n",
              "      <th>V1</th>\n",
              "      <th>V2</th>\n",
              "      <th>V3</th>\n",
              "      <th>V4</th>\n",
              "      <th>V5</th>\n",
              "      <th>V6</th>\n",
              "      <th>V7</th>\n",
              "      <th>V8</th>\n",
              "      <th>V9</th>\n",
              "      <th>V10</th>\n",
              "      <th>V11</th>\n",
              "      <th>V12</th>\n",
              "      <th>V13</th>\n",
              "      <th>V14</th>\n",
              "      <th>V15</th>\n",
              "      <th>V16</th>\n",
              "      <th>V17</th>\n",
              "      <th>V18</th>\n",
              "      <th>V19</th>\n",
              "      <th>V20</th>\n",
              "      <th>V21</th>\n",
              "      <th>V22</th>\n",
              "      <th>V23</th>\n",
              "      <th>V24</th>\n",
              "      <th>V25</th>\n",
              "      <th>V26</th>\n",
              "      <th>V27</th>\n",
              "      <th>V28</th>\n",
              "      <th>Amount</th>\n",
              "      <th>Class</th>\n",
              "    </tr>\n",
              "  </thead>\n",
              "  <tbody>\n",
              "    <tr>\n",
              "      <th>0</th>\n",
              "      <td>0.0</td>\n",
              "      <td>-1.360</td>\n",
              "      <td>-0.073</td>\n",
              "      <td>2.536</td>\n",
              "      <td>1.378</td>\n",
              "      <td>-0.338</td>\n",
              "      <td>0.462</td>\n",
              "      <td>0.240</td>\n",
              "      <td>0.099</td>\n",
              "      <td>0.364</td>\n",
              "      <td>0.091</td>\n",
              "      <td>-0.552</td>\n",
              "      <td>-0.618</td>\n",
              "      <td>-0.991</td>\n",
              "      <td>-0.311</td>\n",
              "      <td>1.468</td>\n",
              "      <td>-0.470</td>\n",
              "      <td>0.208</td>\n",
              "      <td>0.026</td>\n",
              "      <td>0.404</td>\n",
              "      <td>0.251</td>\n",
              "      <td>-0.018</td>\n",
              "      <td>0.278</td>\n",
              "      <td>-0.110</td>\n",
              "      <td>0.067</td>\n",
              "      <td>0.129</td>\n",
              "      <td>-0.189</td>\n",
              "      <td>0.134</td>\n",
              "      <td>-0.021</td>\n",
              "      <td>149.62</td>\n",
              "      <td>0</td>\n",
              "    </tr>\n",
              "    <tr>\n",
              "      <th>1</th>\n",
              "      <td>0.0</td>\n",
              "      <td>1.192</td>\n",
              "      <td>0.266</td>\n",
              "      <td>0.166</td>\n",
              "      <td>0.448</td>\n",
              "      <td>0.060</td>\n",
              "      <td>-0.082</td>\n",
              "      <td>-0.079</td>\n",
              "      <td>0.085</td>\n",
              "      <td>-0.255</td>\n",
              "      <td>-0.167</td>\n",
              "      <td>1.613</td>\n",
              "      <td>1.065</td>\n",
              "      <td>0.489</td>\n",
              "      <td>-0.144</td>\n",
              "      <td>0.636</td>\n",
              "      <td>0.464</td>\n",
              "      <td>-0.115</td>\n",
              "      <td>-0.183</td>\n",
              "      <td>-0.146</td>\n",
              "      <td>-0.069</td>\n",
              "      <td>-0.226</td>\n",
              "      <td>-0.639</td>\n",
              "      <td>0.101</td>\n",
              "      <td>-0.340</td>\n",
              "      <td>0.167</td>\n",
              "      <td>0.126</td>\n",
              "      <td>-0.009</td>\n",
              "      <td>0.015</td>\n",
              "      <td>2.69</td>\n",
              "      <td>0</td>\n",
              "    </tr>\n",
              "    <tr>\n",
              "      <th>2</th>\n",
              "      <td>1.0</td>\n",
              "      <td>-1.358</td>\n",
              "      <td>-1.340</td>\n",
              "      <td>1.773</td>\n",
              "      <td>0.380</td>\n",
              "      <td>-0.503</td>\n",
              "      <td>1.800</td>\n",
              "      <td>0.791</td>\n",
              "      <td>0.248</td>\n",
              "      <td>-1.515</td>\n",
              "      <td>0.208</td>\n",
              "      <td>0.625</td>\n",
              "      <td>0.066</td>\n",
              "      <td>0.717</td>\n",
              "      <td>-0.166</td>\n",
              "      <td>2.346</td>\n",
              "      <td>-2.890</td>\n",
              "      <td>1.110</td>\n",
              "      <td>-0.121</td>\n",
              "      <td>-2.262</td>\n",
              "      <td>0.525</td>\n",
              "      <td>0.248</td>\n",
              "      <td>0.772</td>\n",
              "      <td>0.909</td>\n",
              "      <td>-0.689</td>\n",
              "      <td>-0.328</td>\n",
              "      <td>-0.139</td>\n",
              "      <td>-0.055</td>\n",
              "      <td>-0.060</td>\n",
              "      <td>378.66</td>\n",
              "      <td>0</td>\n",
              "    </tr>\n",
              "    <tr>\n",
              "      <th>3</th>\n",
              "      <td>1.0</td>\n",
              "      <td>-0.966</td>\n",
              "      <td>-0.185</td>\n",
              "      <td>1.793</td>\n",
              "      <td>-0.863</td>\n",
              "      <td>-0.010</td>\n",
              "      <td>1.247</td>\n",
              "      <td>0.238</td>\n",
              "      <td>0.377</td>\n",
              "      <td>-1.387</td>\n",
              "      <td>-0.055</td>\n",
              "      <td>-0.226</td>\n",
              "      <td>0.178</td>\n",
              "      <td>0.508</td>\n",
              "      <td>-0.288</td>\n",
              "      <td>-0.631</td>\n",
              "      <td>-1.060</td>\n",
              "      <td>-0.684</td>\n",
              "      <td>1.966</td>\n",
              "      <td>-1.233</td>\n",
              "      <td>-0.208</td>\n",
              "      <td>-0.108</td>\n",
              "      <td>0.005</td>\n",
              "      <td>-0.190</td>\n",
              "      <td>-1.176</td>\n",
              "      <td>0.647</td>\n",
              "      <td>-0.222</td>\n",
              "      <td>0.063</td>\n",
              "      <td>0.061</td>\n",
              "      <td>123.50</td>\n",
              "      <td>0</td>\n",
              "    </tr>\n",
              "    <tr>\n",
              "      <th>4</th>\n",
              "      <td>2.0</td>\n",
              "      <td>-1.158</td>\n",
              "      <td>0.878</td>\n",
              "      <td>1.549</td>\n",
              "      <td>0.403</td>\n",
              "      <td>-0.407</td>\n",
              "      <td>0.096</td>\n",
              "      <td>0.593</td>\n",
              "      <td>-0.271</td>\n",
              "      <td>0.818</td>\n",
              "      <td>0.753</td>\n",
              "      <td>-0.823</td>\n",
              "      <td>0.538</td>\n",
              "      <td>1.346</td>\n",
              "      <td>-1.120</td>\n",
              "      <td>0.175</td>\n",
              "      <td>-0.451</td>\n",
              "      <td>-0.237</td>\n",
              "      <td>-0.038</td>\n",
              "      <td>0.803</td>\n",
              "      <td>0.409</td>\n",
              "      <td>-0.009</td>\n",
              "      <td>0.798</td>\n",
              "      <td>-0.137</td>\n",
              "      <td>0.141</td>\n",
              "      <td>-0.206</td>\n",
              "      <td>0.502</td>\n",
              "      <td>0.219</td>\n",
              "      <td>0.215</td>\n",
              "      <td>69.99</td>\n",
              "      <td>0</td>\n",
              "    </tr>\n",
              "  </tbody>\n",
              "</table>\n",
              "</div>"
            ],
            "text/plain": [
              "   Time     V1     V2     V3     V4  ...    V26    V27    V28  Amount  Class\n",
              "0   0.0 -1.360 -0.073  2.536  1.378  ... -0.189  0.134 -0.021  149.62      0\n",
              "1   0.0  1.192  0.266  0.166  0.448  ...  0.126 -0.009  0.015    2.69      0\n",
              "2   1.0 -1.358 -1.340  1.773  0.380  ... -0.139 -0.055 -0.060  378.66      0\n",
              "3   1.0 -0.966 -0.185  1.793 -0.863  ... -0.222  0.063  0.061  123.50      0\n",
              "4   2.0 -1.158  0.878  1.549  0.403  ...  0.502  0.219  0.215   69.99      0\n",
              "\n",
              "[5 rows x 31 columns]"
            ]
          },
          "metadata": {
            "tags": []
          },
          "execution_count": 25
        }
      ]
    },
    {
      "cell_type": "markdown",
      "metadata": {
        "id": "nbBfZm9sforQ",
        "colab_type": "text"
      },
      "source": [
        "# How to Deal with Imbalanced Dataset [OK]"
      ]
    },
    {
      "cell_type": "code",
      "metadata": {
        "id": "XS8Kp_VNFwQX",
        "colab_type": "code",
        "colab": {
          "base_uri": "https://localhost:8080/",
          "height": 34
        },
        "outputId": "396562de-5de5-4e86-cd74-1d845fd62439"
      },
      "source": [
        "print(creditcard.shape)"
      ],
      "execution_count": 8,
      "outputs": [
        {
          "output_type": "stream",
          "text": [
            "(284807, 31)\n"
          ],
          "name": "stdout"
        }
      ]
    },
    {
      "cell_type": "code",
      "metadata": {
        "id": "WsSJVyyYFwQa",
        "colab_type": "code",
        "colab": {}
      },
      "source": [
        "print(creditcard.columns)"
      ],
      "execution_count": null,
      "outputs": []
    },
    {
      "cell_type": "code",
      "metadata": {
        "id": "UteXbVeOqDjr",
        "colab_type": "code",
        "colab": {
          "base_uri": "https://localhost:8080/",
          "height": 603
        },
        "outputId": "8dfdd812-9e69-489b-ab86-04c5512be754"
      },
      "source": [
        "## check null values \n",
        "print (f'Number if the records = {creditcard.shape[0]}')\n",
        "pd.isnull(creditcard).sum()"
      ],
      "execution_count": 9,
      "outputs": [
        {
          "output_type": "stream",
          "text": [
            "Number if the records = 284807\n"
          ],
          "name": "stdout"
        },
        {
          "output_type": "execute_result",
          "data": {
            "text/plain": [
              "Time      0\n",
              "V1        0\n",
              "V2        0\n",
              "V3        0\n",
              "V4        0\n",
              "V5        0\n",
              "V6        0\n",
              "V7        0\n",
              "V8        0\n",
              "V9        0\n",
              "V10       0\n",
              "V11       0\n",
              "V12       0\n",
              "V13       0\n",
              "V14       0\n",
              "V15       0\n",
              "V16       0\n",
              "V17       0\n",
              "V18       0\n",
              "V19       0\n",
              "V20       0\n",
              "V21       0\n",
              "V22       0\n",
              "V23       0\n",
              "V24       0\n",
              "V25       0\n",
              "V26       0\n",
              "V27       0\n",
              "V28       0\n",
              "Amount    0\n",
              "Class     0\n",
              "dtype: int64"
            ]
          },
          "metadata": {
            "tags": []
          },
          "execution_count": 9
        }
      ]
    },
    {
      "cell_type": "code",
      "metadata": {
        "id": "MQ3w5P7UFwQc",
        "colab_type": "code",
        "colab": {
          "base_uri": "https://localhost:8080/",
          "height": 70
        },
        "outputId": "560ae688-9a4a-474e-a3dc-3af13198f3fb"
      },
      "source": [
        "creditcard[\"Class\"].value_counts()"
      ],
      "execution_count": 10,
      "outputs": [
        {
          "output_type": "execute_result",
          "data": {
            "text/plain": [
              "0    284315\n",
              "1       492\n",
              "Name: Class, dtype: int64"
            ]
          },
          "metadata": {
            "tags": []
          },
          "execution_count": 10
        }
      ]
    },
    {
      "cell_type": "code",
      "metadata": {
        "id": "8vQ7quX2W8Rt",
        "colab_type": "code",
        "colab": {
          "base_uri": "https://localhost:8080/",
          "height": 34
        },
        "outputId": "98838fc1-18b7-4b1b-8d68-67d13c4e5134"
      },
      "source": [
        "## the data is highly unbalanced\n",
        "positive =  creditcard[creditcard.Class == 1]\n",
        "positive_cnt = positive.shape[0]\n",
        "\n",
        "negative =  creditcard[creditcard.Class == 0]\n",
        "negative_cnt = negative.shape[0]\n",
        "\n",
        "fruad_pct= positive_cnt / (positive_cnt  + negative_cnt )\n",
        "print(f'records count = {creditcard.shape[0]} , fruad records = {positive_cnt} ,  the positive class (frauds) {round(fruad_pct*100,3)}%')\n"
      ],
      "execution_count": 11,
      "outputs": [
        {
          "output_type": "stream",
          "text": [
            "records count = 284807 , fruad records = 492 ,  the positive class (frauds) 0.173%\n"
          ],
          "name": "stdout"
        }
      ]
    },
    {
      "cell_type": "markdown",
      "metadata": {
        "id": "CEmzNbMFpPau",
        "colab_type": "text"
      },
      "source": [
        "**Imbalanced Classes**\n",
        "\n",
        "Most machine learning algorithms work best when the number of samples in each class are about equal. This is because most algorithms are designed to maximize accuracy and reduce error.\n",
        "\n",
        "https://towardsdatascience.com/methods-for-dealing-with-imbalanced-data-5b761be45a18\n",
        "\n",
        "\n",
        "We explored 5 different methods for dealing with imbalanced datasets:\n",
        "Change the performance metric\n",
        "\n",
        "\n",
        "1.   Change the performance metric\n",
        "2.   Change the algorithm\n",
        "3.   Oversample minority class\n",
        "4.   Undersample majority class\n",
        "5.   Generate synthetic samples\n",
        "\n",
        "\n"
      ]
    },
    {
      "cell_type": "code",
      "metadata": {
        "id": "N1-eO1jrs3Iu",
        "colab_type": "code",
        "colab": {
          "base_uri": "https://localhost:8080/",
          "height": 34
        },
        "outputId": "fde87045-d086-45cf-c3a8-620dd29d1bfc"
      },
      "source": [
        "from sklearn.model_selection import train_test_split\n",
        "x = creditcard.drop('Class',axis=1)\n",
        "y = creditcard.Class\n",
        "x_train, x_test, y_train, y_test = train_test_split(x,y,test_size=0.2)\n",
        "print('size of test dataset = {}, size of traing data = {}, percentage = {}%'.format(len(x_test),len(x_train),len(x_test)*100/(len(x_test) + len(x_train))))"
      ],
      "execution_count": 12,
      "outputs": [
        {
          "output_type": "stream",
          "text": [
            "size of test dataset = 56962, size of traing data = 227845, percentage = 20.000210668979342%\n"
          ],
          "name": "stdout"
        }
      ]
    },
    {
      "cell_type": "code",
      "metadata": {
        "id": "AWLnDq36sX3V",
        "colab_type": "code",
        "colab": {
          "base_uri": "https://localhost:8080/",
          "height": 105
        },
        "outputId": "948891f9-972f-4f7a-f584-a31011133219"
      },
      "source": [
        "# Modeling the data as is\n",
        "# Train model\n",
        "from sklearn.linear_model import LogisticRegression\n",
        "model_lr = LogisticRegression(solver='liblinear').fit(x_train, y_train)\n",
        " \n",
        "# Checking accuracy\n",
        "ACC_train_lr = model_lr.score(x_train, y_train)\n",
        "ACC_test_lr = model_lr.score(x_test, y_test)\n",
        "print(ACC_train_lr*100)\n",
        "print(ACC_test_lr*100)\n",
        "\n",
        "# Predict on training set\n",
        "lr_pred = model_lr.predict(x_test)\n",
        "\n",
        "\n",
        "# Checking unique values\n",
        "predictions = pd.DataFrame(lr_pred)\n",
        "predictions[0].value_counts()\n"
      ],
      "execution_count": 13,
      "outputs": [
        {
          "output_type": "stream",
          "text": [
            "99.91134323772741\n",
            "99.92802219023208\n"
          ],
          "name": "stdout"
        },
        {
          "output_type": "execute_result",
          "data": {
            "text/plain": [
              "0    56892\n",
              "1       70\n",
              "Name: 0, dtype: int64"
            ]
          },
          "metadata": {
            "tags": []
          },
          "execution_count": 13
        }
      ]
    },
    {
      "cell_type": "markdown",
      "metadata": {
        "id": "1e3XmIUXwiTV",
        "colab_type": "text"
      },
      "source": [
        "high score !\n",
        "but Let’s see what happens when we apply these F1 and recall scores to our logistic regression from above."
      ]
    },
    {
      "cell_type": "markdown",
      "metadata": {
        "id": "Q1TA1eHS9FFt",
        "colab_type": "text"
      },
      "source": [
        "**1-Change the performance metric**"
      ]
    },
    {
      "cell_type": "code",
      "metadata": {
        "id": "vwUjJMaxu0dj",
        "colab_type": "code",
        "colab": {
          "base_uri": "https://localhost:8080/",
          "height": 70
        },
        "outputId": "3a596a07-cf00-4322-eace-56e99637ed1d"
      },
      "source": [
        "# 1-Change the performance metric\n",
        "\n",
        "from sklearn.metrics import accuracy_score\n",
        "print('accuracy_score= ', accuracy_score(y_test, lr_pred))\n",
        "\n",
        "from sklearn.metrics import f1_score\n",
        "# f1 score\n",
        "print('f1_score= ', f1_score(y_test, lr_pred))\n",
        "\n",
        "from sklearn.metrics import recall_score\n",
        "# recall score\n",
        "print('recall_score= ', recall_score(y_test, lr_pred))\n"
      ],
      "execution_count": 14,
      "outputs": [
        {
          "output_type": "stream",
          "text": [
            "accuracy_score=  0.9992802219023208\n",
            "f1_score=  0.7453416149068323\n",
            "recall_score=  0.6593406593406593\n"
          ],
          "name": "stdout"
        }
      ]
    },
    {
      "cell_type": "markdown",
      "metadata": {
        "id": "FMRToKt2wsZE",
        "colab_type": "text"
      },
      "source": [
        "These scores don’t look quite so impressive"
      ]
    },
    {
      "cell_type": "markdown",
      "metadata": {
        "id": "PYmVAyWK9M8c",
        "colab_type": "text"
      },
      "source": [
        "**2. Change the algorithm**"
      ]
    },
    {
      "cell_type": "code",
      "metadata": {
        "id": "ApEW48HYwJqa",
        "colab_type": "code",
        "colab": {}
      },
      "source": [
        "# 2. Change the algorithm\n",
        "from sklearn.ensemble import RandomForestClassifier\n",
        "\n",
        "# train model\n",
        "model_rfc = RandomForestClassifier(n_estimators=10).fit(x_train, y_train)\n",
        "\n",
        "# predict on test set\n",
        "rfc_pred = model_rfc.predict(x_test)\n"
      ],
      "execution_count": 15,
      "outputs": []
    },
    {
      "cell_type": "code",
      "metadata": {
        "id": "GK9cFgI9yY3k",
        "colab_type": "code",
        "colab": {
          "base_uri": "https://localhost:8080/",
          "height": 70
        },
        "outputId": "c2361a08-037c-4b23-f6d6-da128f409272"
      },
      "source": [
        "from sklearn.metrics import accuracy_score\n",
        "print('accuracy_score= ', accuracy_score(y_test, rfc_pred))\n",
        "\n",
        "from sklearn.metrics import f1_score\n",
        "# f1 score\n",
        "print('f1_score= ', f1_score(y_test, rfc_pred))\n",
        "\n",
        "from sklearn.metrics import recall_score\n",
        "# recall score\n",
        "print('recall_score= ', recall_score(y_test, rfc_pred))"
      ],
      "execution_count": 16,
      "outputs": [
        {
          "output_type": "stream",
          "text": [
            "accuracy_score=  0.9996488887328394\n",
            "f1_score=  0.8795180722891567\n",
            "recall_score=  0.8021978021978022\n"
          ],
          "name": "stdout"
        }
      ]
    },
    {
      "cell_type": "markdown",
      "metadata": {
        "id": "Z3J6Oj9ZwP_7",
        "colab_type": "text"
      },
      "source": [
        "While our accuracy score is slightly lower, both F1 and recall have increased as compared to logistic regression! It appears that for this specific problem, random forest may be a better choice of model."
      ]
    },
    {
      "cell_type": "markdown",
      "metadata": {
        "id": "1J-3EtLM9TsA",
        "colab_type": "text"
      },
      "source": [
        "**3. Resampling Techniques — Oversample minority class**"
      ]
    },
    {
      "cell_type": "code",
      "metadata": {
        "id": "JcryIcmZ-GpU",
        "colab_type": "code",
        "colab": {
          "base_uri": "https://localhost:8080/",
          "height": 70
        },
        "outputId": "f721387f-2d9e-4121-cfdd-01bcd36f34cb"
      },
      "source": [
        "from sklearn.utils import resample\n",
        "\n",
        "# Separate input features and target\n",
        "y = creditcard.Class\n",
        "X = creditcard.drop('Class', axis=1)\n",
        "\n",
        "# setting up testing and training sets\n",
        "X_train, X_test, y_train, y_test = train_test_split(X, y, test_size=0.25, random_state=27)\n",
        "\n",
        "# concatenate our training data back together\n",
        "X = pd.concat([X_train, y_train], axis=1)\n",
        "\n",
        "# separate minority and majority classes\n",
        "not_fraud = X[X.Class==0]\n",
        "fraud = X[X.Class==1]\n",
        "\n",
        "# upsample minority\n",
        "fraud_upsampled = resample(fraud,\n",
        "                          replace=True, # sample with replacement\n",
        "                          n_samples=len(not_fraud), # match number in majority class\n",
        "                          random_state=27) # reproducible results\n",
        "\n",
        "# combine majority and upsampled minority\n",
        "upsampled = pd.concat([not_fraud, fraud_upsampled])\n",
        "\n",
        "# check new class counts\n",
        "upsampled.Class.value_counts()\n"
      ],
      "execution_count": 17,
      "outputs": [
        {
          "output_type": "execute_result",
          "data": {
            "text/plain": [
              "1    213245\n",
              "0    213245\n",
              "Name: Class, dtype: int64"
            ]
          },
          "metadata": {
            "tags": []
          },
          "execution_count": 17
        }
      ]
    },
    {
      "cell_type": "code",
      "metadata": {
        "id": "sAf4TYcP-Kua",
        "colab_type": "code",
        "colab": {}
      },
      "source": [
        "# trying logistic regression again with the balanced dataset\n",
        "y_train = upsampled.Class\n",
        "X_train = upsampled.drop('Class', axis=1)\n",
        "\n",
        "upsampled = LogisticRegression(solver='liblinear').fit(X_train, y_train)\n",
        "upsampled_pred = upsampled.predict(X_test)\n",
        "   "
      ],
      "execution_count": null,
      "outputs": []
    },
    {
      "cell_type": "code",
      "metadata": {
        "id": "k7PERFMF_I_K",
        "colab_type": "code",
        "colab": {}
      },
      "source": [
        "from sklearn.metrics import accuracy_score\n",
        "print('accuracy_score= ', accuracy_score(y_test, upsampled_pred))\n",
        "\n",
        "from sklearn.metrics import f1_score\n",
        "# f1 score\n",
        "print('f1_score= ', f1_score(y_test, upsampled_pred))\n",
        "\n",
        "from sklearn.metrics import recall_score\n",
        "# recall score\n",
        "print('recall_score= ', recall_score(y_test, upsampled_pred))"
      ],
      "execution_count": null,
      "outputs": []
    },
    {
      "cell_type": "markdown",
      "metadata": {
        "id": "t3bb_dal9VpK",
        "colab_type": "text"
      },
      "source": [
        "**4. Resampling techniques — Undersample majority class**"
      ]
    },
    {
      "cell_type": "code",
      "metadata": {
        "id": "YUtI9f2d_bQl",
        "colab_type": "code",
        "colab": {}
      },
      "source": [
        "# still using our separated classes fraud and not_fraud from above\n",
        "\n",
        "# downsample majority\n",
        "not_fraud_downsampled = resample(not_fraud,\n",
        "                                replace = False, # sample without replacement\n",
        "                                n_samples = len(fraud), # match minority n\n",
        "                                random_state = 27) # reproducible results\n",
        "\n",
        "# combine minority and downsampled majority\n",
        "downsampled = pd.concat([not_fraud_downsampled, fraud])\n",
        "\n",
        "# checking counts\n",
        "downsampled.Class.value_counts()\n"
      ],
      "execution_count": null,
      "outputs": []
    },
    {
      "cell_type": "code",
      "metadata": {
        "id": "u60PDkvu_jVb",
        "colab_type": "code",
        "colab": {}
      },
      "source": [
        "# trying logistic regression again with the undersampled dataset\n",
        "\n",
        "y_train = downsampled.Class\n",
        "X_train = downsampled.drop('Class', axis=1)\n",
        "\n",
        "undersampled = LogisticRegression(solver='liblinear').fit(X_train, y_train)\n",
        "\n",
        "undersampled_pred = undersampled.predict(X_test)\n"
      ],
      "execution_count": null,
      "outputs": []
    },
    {
      "cell_type": "code",
      "metadata": {
        "id": "SMhQ1_d4_n1y",
        "colab_type": "code",
        "colab": {}
      },
      "source": [
        "from sklearn.metrics import accuracy_score\n",
        "print('accuracy_score= ', accuracy_score(y_test, undersampled_pred))\n",
        "\n",
        "from sklearn.metrics import f1_score\n",
        "# f1 score\n",
        "print('f1_score= ', f1_score(y_test, undersampled_pred))\n",
        "\n",
        "from sklearn.metrics import recall_score\n",
        "# recall score\n",
        "print('recall_score= ', recall_score(y_test, undersampled_pred))"
      ],
      "execution_count": null,
      "outputs": []
    },
    {
      "cell_type": "markdown",
      "metadata": {
        "id": "9dvc8wHL9deR",
        "colab_type": "text"
      },
      "source": [
        "**5. Generate synthetic samples SMOTE**"
      ]
    },
    {
      "cell_type": "code",
      "metadata": {
        "id": "ldo42zMI__x-",
        "colab_type": "code",
        "colab": {}
      },
      "source": [
        "from imblearn.over_sampling import SMOTE\n",
        "\n",
        "# Separate input features and target\n",
        "y = creditcard.Class\n",
        "X = creditcard.drop('Class', axis=1)\n",
        "\n",
        "# setting up testing and training sets\n",
        "X_train, X_test, y_train, y_test = train_test_split(X, y, test_size=0.25, random_state=27)\n",
        "\n",
        "sm = SMOTE(random_state=27, ratio=1.0)\n",
        "X_train, y_train = sm.fit_sample(X_train, y_train)"
      ],
      "execution_count": null,
      "outputs": []
    },
    {
      "cell_type": "code",
      "metadata": {
        "id": "THYFI4moACvm",
        "colab_type": "code",
        "colab": {}
      },
      "source": [
        "smote = LogisticRegression(solver='liblinear').fit(X_train, y_train)\n",
        "\n",
        "smote_pred = smote.predict(X_test)\n"
      ],
      "execution_count": null,
      "outputs": []
    },
    {
      "cell_type": "code",
      "metadata": {
        "id": "V0h25mgCAGwd",
        "colab_type": "code",
        "colab": {}
      },
      "source": [
        "from sklearn.metrics import accuracy_score\n",
        "print('accuracy_score= ', accuracy_score(y_test, smote_pred))\n",
        "\n",
        "from sklearn.metrics import f1_score\n",
        "# f1 score\n",
        "print('f1_score= ', f1_score(y_test, smote_pred))\n",
        "\n",
        "from sklearn.metrics import recall_score\n",
        "# recall score\n",
        "print('recall_score= ', recall_score(y_test, smote_pred))"
      ],
      "execution_count": null,
      "outputs": []
    },
    {
      "cell_type": "markdown",
      "metadata": {
        "id": "VZ64Ee9f9yTh",
        "colab_type": "text"
      },
      "source": [
        "It appears for this particular dataset random forest and SMOTE are among the best of the options we tried here."
      ]
    },
    {
      "cell_type": "markdown",
      "metadata": {
        "id": "fNzOX1gDFwRo",
        "colab_type": "text"
      },
      "source": [
        "# EDA [OK]"
      ]
    },
    {
      "cell_type": "code",
      "metadata": {
        "id": "7sDmHOisp_i7",
        "colab_type": "code",
        "colab": {
          "base_uri": "https://localhost:8080/",
          "height": 34
        },
        "outputId": "b8505b4f-b16d-4926-8ca7-ce03bfc9eb7a"
      },
      "source": [
        "creditcard.shape"
      ],
      "execution_count": 18,
      "outputs": [
        {
          "output_type": "execute_result",
          "data": {
            "text/plain": [
              "(284807, 31)"
            ]
          },
          "metadata": {
            "tags": []
          },
          "execution_count": 18
        }
      ]
    },
    {
      "cell_type": "code",
      "metadata": {
        "id": "rvx6lBojqH6b",
        "colab_type": "code",
        "colab": {
          "base_uri": "https://localhost:8080/",
          "height": 217
        },
        "outputId": "98d0a7af-2181-43bf-85cd-69b9dfe9e557"
      },
      "source": [
        "creditcard.head()\n"
      ],
      "execution_count": 19,
      "outputs": [
        {
          "output_type": "execute_result",
          "data": {
            "text/html": [
              "<div>\n",
              "<style scoped>\n",
              "    .dataframe tbody tr th:only-of-type {\n",
              "        vertical-align: middle;\n",
              "    }\n",
              "\n",
              "    .dataframe tbody tr th {\n",
              "        vertical-align: top;\n",
              "    }\n",
              "\n",
              "    .dataframe thead th {\n",
              "        text-align: right;\n",
              "    }\n",
              "</style>\n",
              "<table border=\"1\" class=\"dataframe\">\n",
              "  <thead>\n",
              "    <tr style=\"text-align: right;\">\n",
              "      <th></th>\n",
              "      <th>Time</th>\n",
              "      <th>V1</th>\n",
              "      <th>V2</th>\n",
              "      <th>V3</th>\n",
              "      <th>V4</th>\n",
              "      <th>V5</th>\n",
              "      <th>V6</th>\n",
              "      <th>V7</th>\n",
              "      <th>V8</th>\n",
              "      <th>V9</th>\n",
              "      <th>V10</th>\n",
              "      <th>V11</th>\n",
              "      <th>V12</th>\n",
              "      <th>V13</th>\n",
              "      <th>V14</th>\n",
              "      <th>V15</th>\n",
              "      <th>V16</th>\n",
              "      <th>V17</th>\n",
              "      <th>V18</th>\n",
              "      <th>V19</th>\n",
              "      <th>V20</th>\n",
              "      <th>V21</th>\n",
              "      <th>V22</th>\n",
              "      <th>V23</th>\n",
              "      <th>V24</th>\n",
              "      <th>V25</th>\n",
              "      <th>V26</th>\n",
              "      <th>V27</th>\n",
              "      <th>V28</th>\n",
              "      <th>Amount</th>\n",
              "      <th>Class</th>\n",
              "    </tr>\n",
              "  </thead>\n",
              "  <tbody>\n",
              "    <tr>\n",
              "      <th>0</th>\n",
              "      <td>0.0</td>\n",
              "      <td>-1.359807</td>\n",
              "      <td>-0.072781</td>\n",
              "      <td>2.536347</td>\n",
              "      <td>1.378155</td>\n",
              "      <td>-0.338321</td>\n",
              "      <td>0.462388</td>\n",
              "      <td>0.239599</td>\n",
              "      <td>0.098698</td>\n",
              "      <td>0.363787</td>\n",
              "      <td>0.090794</td>\n",
              "      <td>-0.551600</td>\n",
              "      <td>-0.617801</td>\n",
              "      <td>-0.991390</td>\n",
              "      <td>-0.311169</td>\n",
              "      <td>1.468177</td>\n",
              "      <td>-0.470401</td>\n",
              "      <td>0.207971</td>\n",
              "      <td>0.025791</td>\n",
              "      <td>0.403993</td>\n",
              "      <td>0.251412</td>\n",
              "      <td>-0.018307</td>\n",
              "      <td>0.277838</td>\n",
              "      <td>-0.110474</td>\n",
              "      <td>0.066928</td>\n",
              "      <td>0.128539</td>\n",
              "      <td>-0.189115</td>\n",
              "      <td>0.133558</td>\n",
              "      <td>-0.021053</td>\n",
              "      <td>149.62</td>\n",
              "      <td>0</td>\n",
              "    </tr>\n",
              "    <tr>\n",
              "      <th>1</th>\n",
              "      <td>0.0</td>\n",
              "      <td>1.191857</td>\n",
              "      <td>0.266151</td>\n",
              "      <td>0.166480</td>\n",
              "      <td>0.448154</td>\n",
              "      <td>0.060018</td>\n",
              "      <td>-0.082361</td>\n",
              "      <td>-0.078803</td>\n",
              "      <td>0.085102</td>\n",
              "      <td>-0.255425</td>\n",
              "      <td>-0.166974</td>\n",
              "      <td>1.612727</td>\n",
              "      <td>1.065235</td>\n",
              "      <td>0.489095</td>\n",
              "      <td>-0.143772</td>\n",
              "      <td>0.635558</td>\n",
              "      <td>0.463917</td>\n",
              "      <td>-0.114805</td>\n",
              "      <td>-0.183361</td>\n",
              "      <td>-0.145783</td>\n",
              "      <td>-0.069083</td>\n",
              "      <td>-0.225775</td>\n",
              "      <td>-0.638672</td>\n",
              "      <td>0.101288</td>\n",
              "      <td>-0.339846</td>\n",
              "      <td>0.167170</td>\n",
              "      <td>0.125895</td>\n",
              "      <td>-0.008983</td>\n",
              "      <td>0.014724</td>\n",
              "      <td>2.69</td>\n",
              "      <td>0</td>\n",
              "    </tr>\n",
              "    <tr>\n",
              "      <th>2</th>\n",
              "      <td>1.0</td>\n",
              "      <td>-1.358354</td>\n",
              "      <td>-1.340163</td>\n",
              "      <td>1.773209</td>\n",
              "      <td>0.379780</td>\n",
              "      <td>-0.503198</td>\n",
              "      <td>1.800499</td>\n",
              "      <td>0.791461</td>\n",
              "      <td>0.247676</td>\n",
              "      <td>-1.514654</td>\n",
              "      <td>0.207643</td>\n",
              "      <td>0.624501</td>\n",
              "      <td>0.066084</td>\n",
              "      <td>0.717293</td>\n",
              "      <td>-0.165946</td>\n",
              "      <td>2.345865</td>\n",
              "      <td>-2.890083</td>\n",
              "      <td>1.109969</td>\n",
              "      <td>-0.121359</td>\n",
              "      <td>-2.261857</td>\n",
              "      <td>0.524980</td>\n",
              "      <td>0.247998</td>\n",
              "      <td>0.771679</td>\n",
              "      <td>0.909412</td>\n",
              "      <td>-0.689281</td>\n",
              "      <td>-0.327642</td>\n",
              "      <td>-0.139097</td>\n",
              "      <td>-0.055353</td>\n",
              "      <td>-0.059752</td>\n",
              "      <td>378.66</td>\n",
              "      <td>0</td>\n",
              "    </tr>\n",
              "    <tr>\n",
              "      <th>3</th>\n",
              "      <td>1.0</td>\n",
              "      <td>-0.966272</td>\n",
              "      <td>-0.185226</td>\n",
              "      <td>1.792993</td>\n",
              "      <td>-0.863291</td>\n",
              "      <td>-0.010309</td>\n",
              "      <td>1.247203</td>\n",
              "      <td>0.237609</td>\n",
              "      <td>0.377436</td>\n",
              "      <td>-1.387024</td>\n",
              "      <td>-0.054952</td>\n",
              "      <td>-0.226487</td>\n",
              "      <td>0.178228</td>\n",
              "      <td>0.507757</td>\n",
              "      <td>-0.287924</td>\n",
              "      <td>-0.631418</td>\n",
              "      <td>-1.059647</td>\n",
              "      <td>-0.684093</td>\n",
              "      <td>1.965775</td>\n",
              "      <td>-1.232622</td>\n",
              "      <td>-0.208038</td>\n",
              "      <td>-0.108300</td>\n",
              "      <td>0.005274</td>\n",
              "      <td>-0.190321</td>\n",
              "      <td>-1.175575</td>\n",
              "      <td>0.647376</td>\n",
              "      <td>-0.221929</td>\n",
              "      <td>0.062723</td>\n",
              "      <td>0.061458</td>\n",
              "      <td>123.50</td>\n",
              "      <td>0</td>\n",
              "    </tr>\n",
              "    <tr>\n",
              "      <th>4</th>\n",
              "      <td>2.0</td>\n",
              "      <td>-1.158233</td>\n",
              "      <td>0.877737</td>\n",
              "      <td>1.548718</td>\n",
              "      <td>0.403034</td>\n",
              "      <td>-0.407193</td>\n",
              "      <td>0.095921</td>\n",
              "      <td>0.592941</td>\n",
              "      <td>-0.270533</td>\n",
              "      <td>0.817739</td>\n",
              "      <td>0.753074</td>\n",
              "      <td>-0.822843</td>\n",
              "      <td>0.538196</td>\n",
              "      <td>1.345852</td>\n",
              "      <td>-1.119670</td>\n",
              "      <td>0.175121</td>\n",
              "      <td>-0.451449</td>\n",
              "      <td>-0.237033</td>\n",
              "      <td>-0.038195</td>\n",
              "      <td>0.803487</td>\n",
              "      <td>0.408542</td>\n",
              "      <td>-0.009431</td>\n",
              "      <td>0.798278</td>\n",
              "      <td>-0.137458</td>\n",
              "      <td>0.141267</td>\n",
              "      <td>-0.206010</td>\n",
              "      <td>0.502292</td>\n",
              "      <td>0.219422</td>\n",
              "      <td>0.215153</td>\n",
              "      <td>69.99</td>\n",
              "      <td>0</td>\n",
              "    </tr>\n",
              "  </tbody>\n",
              "</table>\n",
              "</div>"
            ],
            "text/plain": [
              "   Time        V1        V2        V3  ...       V27       V28  Amount  Class\n",
              "0   0.0 -1.359807 -0.072781  2.536347  ...  0.133558 -0.021053  149.62      0\n",
              "1   0.0  1.191857  0.266151  0.166480  ... -0.008983  0.014724    2.69      0\n",
              "2   1.0 -1.358354 -1.340163  1.773209  ... -0.055353 -0.059752  378.66      0\n",
              "3   1.0 -0.966272 -0.185226  1.792993  ...  0.062723  0.061458  123.50      0\n",
              "4   2.0 -1.158233  0.877737  1.548718  ...  0.219422  0.215153   69.99      0\n",
              "\n",
              "[5 rows x 31 columns]"
            ]
          },
          "metadata": {
            "tags": []
          },
          "execution_count": 19
        }
      ]
    },
    {
      "cell_type": "code",
      "metadata": {
        "id": "KxrhLkxFTXrB",
        "colab_type": "code",
        "colab": {
          "base_uri": "https://localhost:8080/",
          "height": 287
        },
        "outputId": "22f0b821-90b5-43f2-bf26-e0af87eb7123"
      },
      "source": [
        "#numerical summary -> only non-anonymized columns of interest\n",
        "pd.set_option('precision', 3)\n",
        "creditcard.loc[:, ['Time', 'Amount']].describe()"
      ],
      "execution_count": 23,
      "outputs": [
        {
          "output_type": "execute_result",
          "data": {
            "text/html": [
              "<div>\n",
              "<style scoped>\n",
              "    .dataframe tbody tr th:only-of-type {\n",
              "        vertical-align: middle;\n",
              "    }\n",
              "\n",
              "    .dataframe tbody tr th {\n",
              "        vertical-align: top;\n",
              "    }\n",
              "\n",
              "    .dataframe thead th {\n",
              "        text-align: right;\n",
              "    }\n",
              "</style>\n",
              "<table border=\"1\" class=\"dataframe\">\n",
              "  <thead>\n",
              "    <tr style=\"text-align: right;\">\n",
              "      <th></th>\n",
              "      <th>Time</th>\n",
              "      <th>Amount</th>\n",
              "    </tr>\n",
              "  </thead>\n",
              "  <tbody>\n",
              "    <tr>\n",
              "      <th>count</th>\n",
              "      <td>284807.000</td>\n",
              "      <td>284807.000</td>\n",
              "    </tr>\n",
              "    <tr>\n",
              "      <th>mean</th>\n",
              "      <td>94813.860</td>\n",
              "      <td>88.350</td>\n",
              "    </tr>\n",
              "    <tr>\n",
              "      <th>std</th>\n",
              "      <td>47488.146</td>\n",
              "      <td>250.120</td>\n",
              "    </tr>\n",
              "    <tr>\n",
              "      <th>min</th>\n",
              "      <td>0.000</td>\n",
              "      <td>0.000</td>\n",
              "    </tr>\n",
              "    <tr>\n",
              "      <th>25%</th>\n",
              "      <td>54201.500</td>\n",
              "      <td>5.600</td>\n",
              "    </tr>\n",
              "    <tr>\n",
              "      <th>50%</th>\n",
              "      <td>84692.000</td>\n",
              "      <td>22.000</td>\n",
              "    </tr>\n",
              "    <tr>\n",
              "      <th>75%</th>\n",
              "      <td>139320.500</td>\n",
              "      <td>77.165</td>\n",
              "    </tr>\n",
              "    <tr>\n",
              "      <th>max</th>\n",
              "      <td>172792.000</td>\n",
              "      <td>25691.160</td>\n",
              "    </tr>\n",
              "  </tbody>\n",
              "</table>\n",
              "</div>"
            ],
            "text/plain": [
              "             Time      Amount\n",
              "count  284807.000  284807.000\n",
              "mean    94813.860      88.350\n",
              "std     47488.146     250.120\n",
              "min         0.000       0.000\n",
              "25%     54201.500       5.600\n",
              "50%     84692.000      22.000\n",
              "75%    139320.500      77.165\n",
              "max    172792.000   25691.160"
            ]
          },
          "metadata": {
            "tags": []
          },
          "execution_count": 23
        }
      ]
    },
    {
      "cell_type": "code",
      "metadata": {
        "id": "8WDo-pbSTol7",
        "colab_type": "code",
        "colab": {
          "base_uri": "https://localhost:8080/",
          "height": 534
        },
        "outputId": "2aecb920-c0f9-4277-a8fb-da5284225906"
      },
      "source": [
        "#visualizations of time and amount\n",
        "plt.figure(figsize=(10,8))\n",
        "plt.title('Distribution of Time Feature')\n",
        "sns.distplot(creditcard.Time)"
      ],
      "execution_count": 26,
      "outputs": [
        {
          "output_type": "execute_result",
          "data": {
            "text/plain": [
              "<matplotlib.axes._subplots.AxesSubplot at 0x7f55437c8780>"
            ]
          },
          "metadata": {
            "tags": []
          },
          "execution_count": 26
        },
        {
          "output_type": "display_data",
          "data": {
            "image/png": "[encoded data removed]",
            "text/plain": [
              "<Figure size 720x576 with 1 Axes>"
            ]
          },
          "metadata": {
            "tags": []
          }
        }
      ]
    },
    {
      "cell_type": "code",
      "metadata": {
        "id": "-kSLuhcoT7Cy",
        "colab_type": "code",
        "colab": {
          "base_uri": "https://localhost:8080/",
          "height": 534
        },
        "outputId": "de0d6d61-f0c7-4a2b-dad7-4335958b39ba"
      },
      "source": [
        "plt.figure(figsize=(10,8))\n",
        "plt.title('Distribution of Monetary Value Feature')\n",
        "sns.distplot(creditcard.Amount)"
      ],
      "execution_count": 29,
      "outputs": [
        {
          "output_type": "execute_result",
          "data": {
            "text/plain": [
              "<matplotlib.axes._subplots.AxesSubplot at 0x7f5543567dd8>"
            ]
          },
          "metadata": {
            "tags": []
          },
          "execution_count": 29
        },
        {
          "output_type": "display_data",
          "data": {
            "image/png": "[encoded data removed]",
            "text/plain": [
              "<Figure size 720x576 with 1 Axes>"
            ]
          },
          "metadata": {
            "tags": []
          }
        }
      ]
    },
    {
      "cell_type": "markdown",
      "metadata": {
        "id": "OugQT7qQUorV",
        "colab_type": "text"
      },
      "source": [
        "Around 88 dollars is the mean of all credit card transactions in this data set. The biggest transaction had a monetary value of around 25,691 dollars."
      ]
    },
    {
      "cell_type": "markdown",
      "metadata": {
        "id": "UMCx8oCjUkkN",
        "colab_type": "text"
      },
      "source": [
        ""
      ]
    },
    {
      "cell_type": "code",
      "metadata": {
        "id": "AoVwYRHPU5-o",
        "colab_type": "code",
        "colab": {
          "base_uri": "https://localhost:8080/",
          "height": 443
        },
        "outputId": "55699ab6-d25b-4e76-ccd8-1dc391324370"
      },
      "source": [
        "#fraud vs. normal transactions \n",
        "counts = creditcard.Class.value_counts()\n",
        "normal = counts[0]\n",
        "fraudulent = counts[1]\n",
        "perc_normal = (normal/(normal+fraudulent))*100\n",
        "perc_fraudulent = (fraudulent/(normal+fraudulent))*100\n",
        "print('Just to remember, There were {} non-fraudulent transactions ({:.3f}%) and {} fraudulent transactions ({:.3f}%).'.format(normal, perc_normal, fraudulent, perc_fraudulent))\n",
        "plt.figure(figsize=(8,6))\n",
        "sns.barplot(x=counts.index, y=counts)\n",
        "plt.title('Count of Fraudulent vs. Non-Fraudulent Transactions')\n",
        "plt.ylabel('Count')\n",
        "plt.xlabel('Class (0:Non-Fraudulent, 1:Fraudulent)')"
      ],
      "execution_count": 31,
      "outputs": [
        {
          "output_type": "stream",
          "text": [
            "Just to remember, There were 284315 non-fraudulent transactions (99.827%) and 492 fraudulent transactions (0.173%).\n"
          ],
          "name": "stdout"
        },
        {
          "output_type": "execute_result",
          "data": {
            "text/plain": [
              "Text(0.5, 0, 'Class (0:Non-Fraudulent, 1:Fraudulent)')"
            ]
          },
          "metadata": {
            "tags": []
          },
          "execution_count": 31
        },
        {
          "output_type": "display_data",
          "data": {
            "image/png": "[encoded data removed]",
            "text/plain": [
              "<Figure size 576x432 with 1 Axes>"
            ]
          },
          "metadata": {
            "tags": []
          }
        }
      ]
    },
    {
      "cell_type": "code",
      "metadata": {
        "id": "kXK4EBFsVnhe",
        "colab_type": "code",
        "colab": {
          "base_uri": "https://localhost:8080/",
          "height": 1000
        },
        "outputId": "57ab0163-1a2d-4f32-e1c1-966f83b38ee9"
      },
      "source": [
        "corr = creditcard.corr()\n",
        "corr\n"
      ],
      "execution_count": 32,
      "outputs": [
        {
          "output_type": "execute_result",
          "data": {
            "text/html": [
              "<div>\n",
              "<style scoped>\n",
              "    .dataframe tbody tr th:only-of-type {\n",
              "        vertical-align: middle;\n",
              "    }\n",
              "\n",
              "    .dataframe tbody tr th {\n",
              "        vertical-align: top;\n",
              "    }\n",
              "\n",
              "    .dataframe thead th {\n",
              "        text-align: right;\n",
              "    }\n",
              "</style>\n",
              "<table border=\"1\" class=\"dataframe\">\n",
              "  <thead>\n",
              "    <tr style=\"text-align: right;\">\n",
              "      <th></th>\n",
              "      <th>Time</th>\n",
              "      <th>V1</th>\n",
              "      <th>V2</th>\n",
              "      <th>V3</th>\n",
              "      <th>V4</th>\n",
              "      <th>V5</th>\n",
              "      <th>V6</th>\n",
              "      <th>V7</th>\n",
              "      <th>V8</th>\n",
              "      <th>V9</th>\n",
              "      <th>V10</th>\n",
              "      <th>V11</th>\n",
              "      <th>V12</th>\n",
              "      <th>V13</th>\n",
              "      <th>V14</th>\n",
              "      <th>V15</th>\n",
              "      <th>V16</th>\n",
              "      <th>V17</th>\n",
              "      <th>V18</th>\n",
              "      <th>V19</th>\n",
              "      <th>V20</th>\n",
              "      <th>V21</th>\n",
              "      <th>V22</th>\n",
              "      <th>V23</th>\n",
              "      <th>V24</th>\n",
              "      <th>V25</th>\n",
              "      <th>V26</th>\n",
              "      <th>V27</th>\n",
              "      <th>V28</th>\n",
              "      <th>Amount</th>\n",
              "      <th>Class</th>\n",
              "    </tr>\n",
              "  </thead>\n",
              "  <tbody>\n",
              "    <tr>\n",
              "      <th>Time</th>\n",
              "      <td>1.000</td>\n",
              "      <td>1.174e-01</td>\n",
              "      <td>-1.059e-02</td>\n",
              "      <td>-4.196e-01</td>\n",
              "      <td>-1.053e-01</td>\n",
              "      <td>1.731e-01</td>\n",
              "      <td>-6.302e-02</td>\n",
              "      <td>8.471e-02</td>\n",
              "      <td>-3.695e-02</td>\n",
              "      <td>-8.660e-03</td>\n",
              "      <td>3.062e-02</td>\n",
              "      <td>-2.477e-01</td>\n",
              "      <td>1.243e-01</td>\n",
              "      <td>-6.590e-02</td>\n",
              "      <td>-9.876e-02</td>\n",
              "      <td>-1.835e-01</td>\n",
              "      <td>1.190e-02</td>\n",
              "      <td>-7.330e-02</td>\n",
              "      <td>9.044e-02</td>\n",
              "      <td>2.898e-02</td>\n",
              "      <td>-5.087e-02</td>\n",
              "      <td>4.474e-02</td>\n",
              "      <td>1.441e-01</td>\n",
              "      <td>5.114e-02</td>\n",
              "      <td>-1.618e-02</td>\n",
              "      <td>-2.331e-01</td>\n",
              "      <td>-4.141e-02</td>\n",
              "      <td>-5.135e-03</td>\n",
              "      <td>-9.413e-03</td>\n",
              "      <td>-1.060e-02</td>\n",
              "      <td>-1.232e-02</td>\n",
              "    </tr>\n",
              "    <tr>\n",
              "      <th>V1</th>\n",
              "      <td>0.117</td>\n",
              "      <td>1.000e+00</td>\n",
              "      <td>4.697e-17</td>\n",
              "      <td>-1.424e-15</td>\n",
              "      <td>1.755e-17</td>\n",
              "      <td>6.391e-17</td>\n",
              "      <td>2.398e-16</td>\n",
              "      <td>1.992e-15</td>\n",
              "      <td>-9.491e-17</td>\n",
              "      <td>2.170e-16</td>\n",
              "      <td>7.434e-17</td>\n",
              "      <td>2.439e-16</td>\n",
              "      <td>2.422e-16</td>\n",
              "      <td>-2.115e-16</td>\n",
              "      <td>9.353e-16</td>\n",
              "      <td>-3.252e-16</td>\n",
              "      <td>6.309e-16</td>\n",
              "      <td>-5.012e-16</td>\n",
              "      <td>2.870e-16</td>\n",
              "      <td>1.818e-16</td>\n",
              "      <td>1.037e-16</td>\n",
              "      <td>-1.755e-16</td>\n",
              "      <td>7.477e-17</td>\n",
              "      <td>9.809e-16</td>\n",
              "      <td>7.354e-17</td>\n",
              "      <td>-9.805e-16</td>\n",
              "      <td>-8.622e-17</td>\n",
              "      <td>3.208e-17</td>\n",
              "      <td>9.821e-16</td>\n",
              "      <td>-2.277e-01</td>\n",
              "      <td>-1.013e-01</td>\n",
              "    </tr>\n",
              "    <tr>\n",
              "      <th>V2</th>\n",
              "      <td>-0.011</td>\n",
              "      <td>4.697e-17</td>\n",
              "      <td>1.000e+00</td>\n",
              "      <td>2.512e-16</td>\n",
              "      <td>-1.126e-16</td>\n",
              "      <td>-2.040e-16</td>\n",
              "      <td>5.025e-16</td>\n",
              "      <td>3.966e-16</td>\n",
              "      <td>-4.414e-17</td>\n",
              "      <td>-5.729e-17</td>\n",
              "      <td>-4.782e-16</td>\n",
              "      <td>9.469e-16</td>\n",
              "      <td>-6.588e-16</td>\n",
              "      <td>3.855e-16</td>\n",
              "      <td>-2.541e-16</td>\n",
              "      <td>2.831e-16</td>\n",
              "      <td>4.934e-17</td>\n",
              "      <td>-9.883e-16</td>\n",
              "      <td>2.637e-16</td>\n",
              "      <td>9.528e-17</td>\n",
              "      <td>-9.310e-16</td>\n",
              "      <td>8.444e-17</td>\n",
              "      <td>2.501e-16</td>\n",
              "      <td>1.060e-16</td>\n",
              "      <td>-8.142e-18</td>\n",
              "      <td>-4.262e-17</td>\n",
              "      <td>2.602e-16</td>\n",
              "      <td>-4.478e-16</td>\n",
              "      <td>-3.676e-16</td>\n",
              "      <td>-5.314e-01</td>\n",
              "      <td>9.129e-02</td>\n",
              "    </tr>\n",
              "    <tr>\n",
              "      <th>V3</th>\n",
              "      <td>-0.420</td>\n",
              "      <td>-1.424e-15</td>\n",
              "      <td>2.512e-16</td>\n",
              "      <td>1.000e+00</td>\n",
              "      <td>-3.417e-16</td>\n",
              "      <td>-1.437e-15</td>\n",
              "      <td>1.432e-15</td>\n",
              "      <td>2.169e-15</td>\n",
              "      <td>3.433e-16</td>\n",
              "      <td>-4.234e-16</td>\n",
              "      <td>6.289e-16</td>\n",
              "      <td>-5.502e-17</td>\n",
              "      <td>2.207e-16</td>\n",
              "      <td>-6.883e-16</td>\n",
              "      <td>4.271e-16</td>\n",
              "      <td>1.123e-16</td>\n",
              "      <td>1.183e-15</td>\n",
              "      <td>4.577e-17</td>\n",
              "      <td>5.428e-16</td>\n",
              "      <td>2.577e-16</td>\n",
              "      <td>-9.429e-16</td>\n",
              "      <td>-2.972e-17</td>\n",
              "      <td>4.648e-16</td>\n",
              "      <td>2.115e-17</td>\n",
              "      <td>-9.352e-17</td>\n",
              "      <td>4.771e-16</td>\n",
              "      <td>6.522e-16</td>\n",
              "      <td>6.240e-16</td>\n",
              "      <td>7.727e-16</td>\n",
              "      <td>-2.109e-01</td>\n",
              "      <td>-1.930e-01</td>\n",
              "    </tr>\n",
              "    <tr>\n",
              "      <th>V4</th>\n",
              "      <td>-0.105</td>\n",
              "      <td>1.755e-17</td>\n",
              "      <td>-1.126e-16</td>\n",
              "      <td>-3.417e-16</td>\n",
              "      <td>1.000e+00</td>\n",
              "      <td>-1.941e-15</td>\n",
              "      <td>-2.713e-16</td>\n",
              "      <td>1.556e-16</td>\n",
              "      <td>5.196e-16</td>\n",
              "      <td>3.860e-16</td>\n",
              "      <td>6.055e-16</td>\n",
              "      <td>-2.084e-16</td>\n",
              "      <td>-5.658e-16</td>\n",
              "      <td>-1.506e-16</td>\n",
              "      <td>-8.522e-17</td>\n",
              "      <td>-1.508e-16</td>\n",
              "      <td>-6.939e-16</td>\n",
              "      <td>-4.398e-16</td>\n",
              "      <td>1.494e-16</td>\n",
              "      <td>-2.657e-16</td>\n",
              "      <td>-3.223e-16</td>\n",
              "      <td>-9.977e-17</td>\n",
              "      <td>2.100e-16</td>\n",
              "      <td>6.003e-17</td>\n",
              "      <td>2.230e-16</td>\n",
              "      <td>5.395e-16</td>\n",
              "      <td>-6.180e-16</td>\n",
              "      <td>-6.403e-17</td>\n",
              "      <td>-5.864e-17</td>\n",
              "      <td>9.873e-02</td>\n",
              "      <td>1.334e-01</td>\n",
              "    </tr>\n",
              "    <tr>\n",
              "      <th>V5</th>\n",
              "      <td>0.173</td>\n",
              "      <td>6.391e-17</td>\n",
              "      <td>-2.040e-16</td>\n",
              "      <td>-1.437e-15</td>\n",
              "      <td>-1.941e-15</td>\n",
              "      <td>1.000e+00</td>\n",
              "      <td>7.926e-16</td>\n",
              "      <td>-4.210e-16</td>\n",
              "      <td>7.589e-16</td>\n",
              "      <td>4.205e-16</td>\n",
              "      <td>-6.602e-16</td>\n",
              "      <td>7.343e-16</td>\n",
              "      <td>3.761e-16</td>\n",
              "      <td>-9.579e-16</td>\n",
              "      <td>-3.635e-16</td>\n",
              "      <td>-5.133e-16</td>\n",
              "      <td>-3.517e-16</td>\n",
              "      <td>1.426e-16</td>\n",
              "      <td>1.110e-15</td>\n",
              "      <td>-3.138e-16</td>\n",
              "      <td>2.076e-16</td>\n",
              "      <td>-1.369e-16</td>\n",
              "      <td>5.060e-16</td>\n",
              "      <td>1.638e-16</td>\n",
              "      <td>-9.286e-16</td>\n",
              "      <td>5.625e-16</td>\n",
              "      <td>9.145e-16</td>\n",
              "      <td>4.466e-16</td>\n",
              "      <td>-3.299e-16</td>\n",
              "      <td>-3.864e-01</td>\n",
              "      <td>-9.497e-02</td>\n",
              "    </tr>\n",
              "    <tr>\n",
              "      <th>V6</th>\n",
              "      <td>-0.063</td>\n",
              "      <td>2.398e-16</td>\n",
              "      <td>5.025e-16</td>\n",
              "      <td>1.432e-15</td>\n",
              "      <td>-2.713e-16</td>\n",
              "      <td>7.926e-16</td>\n",
              "      <td>1.000e+00</td>\n",
              "      <td>1.429e-16</td>\n",
              "      <td>-1.707e-16</td>\n",
              "      <td>1.114e-16</td>\n",
              "      <td>2.851e-16</td>\n",
              "      <td>4.866e-16</td>\n",
              "      <td>2.141e-16</td>\n",
              "      <td>-2.268e-16</td>\n",
              "      <td>3.453e-16</td>\n",
              "      <td>-6.368e-18</td>\n",
              "      <td>-2.478e-16</td>\n",
              "      <td>3.568e-16</td>\n",
              "      <td>2.811e-16</td>\n",
              "      <td>2.717e-16</td>\n",
              "      <td>1.899e-16</td>\n",
              "      <td>-1.576e-16</td>\n",
              "      <td>-3.363e-16</td>\n",
              "      <td>-7.232e-17</td>\n",
              "      <td>-1.262e-15</td>\n",
              "      <td>1.082e-15</td>\n",
              "      <td>-2.378e-16</td>\n",
              "      <td>-2.624e-16</td>\n",
              "      <td>4.813e-16</td>\n",
              "      <td>2.160e-01</td>\n",
              "      <td>-4.364e-02</td>\n",
              "    </tr>\n",
              "    <tr>\n",
              "      <th>V7</th>\n",
              "      <td>0.085</td>\n",
              "      <td>1.992e-15</td>\n",
              "      <td>3.966e-16</td>\n",
              "      <td>2.169e-15</td>\n",
              "      <td>1.556e-16</td>\n",
              "      <td>-4.210e-16</td>\n",
              "      <td>1.429e-16</td>\n",
              "      <td>1.000e+00</td>\n",
              "      <td>-8.692e-17</td>\n",
              "      <td>7.933e-16</td>\n",
              "      <td>3.043e-17</td>\n",
              "      <td>-1.084e-15</td>\n",
              "      <td>1.510e-15</td>\n",
              "      <td>-9.892e-17</td>\n",
              "      <td>-1.729e-16</td>\n",
              "      <td>1.937e-17</td>\n",
              "      <td>2.894e-16</td>\n",
              "      <td>1.150e-15</td>\n",
              "      <td>-1.117e-16</td>\n",
              "      <td>-2.874e-16</td>\n",
              "      <td>1.744e-16</td>\n",
              "      <td>1.939e-16</td>\n",
              "      <td>-1.058e-15</td>\n",
              "      <td>2.328e-16</td>\n",
              "      <td>-2.590e-17</td>\n",
              "      <td>1.174e-15</td>\n",
              "      <td>-7.335e-16</td>\n",
              "      <td>-5.887e-16</td>\n",
              "      <td>-6.837e-17</td>\n",
              "      <td>3.973e-01</td>\n",
              "      <td>-1.873e-01</td>\n",
              "    </tr>\n",
              "    <tr>\n",
              "      <th>V8</th>\n",
              "      <td>-0.037</td>\n",
              "      <td>-9.491e-17</td>\n",
              "      <td>-4.414e-17</td>\n",
              "      <td>3.433e-16</td>\n",
              "      <td>5.196e-16</td>\n",
              "      <td>7.589e-16</td>\n",
              "      <td>-1.707e-16</td>\n",
              "      <td>-8.692e-17</td>\n",
              "      <td>1.000e+00</td>\n",
              "      <td>2.901e-16</td>\n",
              "      <td>9.052e-17</td>\n",
              "      <td>1.955e-16</td>\n",
              "      <td>-6.266e-17</td>\n",
              "      <td>-2.383e-16</td>\n",
              "      <td>-1.131e-16</td>\n",
              "      <td>2.021e-16</td>\n",
              "      <td>5.027e-16</td>\n",
              "      <td>-3.509e-16</td>\n",
              "      <td>-4.094e-16</td>\n",
              "      <td>-5.340e-16</td>\n",
              "      <td>-1.096e-16</td>\n",
              "      <td>-2.412e-16</td>\n",
              "      <td>5.476e-16</td>\n",
              "      <td>3.897e-16</td>\n",
              "      <td>-1.803e-16</td>\n",
              "      <td>-1.391e-16</td>\n",
              "      <td>-1.210e-16</td>\n",
              "      <td>1.734e-16</td>\n",
              "      <td>-4.484e-16</td>\n",
              "      <td>-1.031e-01</td>\n",
              "      <td>1.988e-02</td>\n",
              "    </tr>\n",
              "    <tr>\n",
              "      <th>V9</th>\n",
              "      <td>-0.009</td>\n",
              "      <td>2.170e-16</td>\n",
              "      <td>-5.729e-17</td>\n",
              "      <td>-4.234e-16</td>\n",
              "      <td>3.860e-16</td>\n",
              "      <td>4.205e-16</td>\n",
              "      <td>1.114e-16</td>\n",
              "      <td>7.933e-16</td>\n",
              "      <td>2.901e-16</td>\n",
              "      <td>1.000e+00</td>\n",
              "      <td>-2.772e-16</td>\n",
              "      <td>4.682e-16</td>\n",
              "      <td>-2.445e-15</td>\n",
              "      <td>-2.650e-16</td>\n",
              "      <td>2.343e-16</td>\n",
              "      <td>-1.588e-15</td>\n",
              "      <td>-3.252e-16</td>\n",
              "      <td>6.536e-16</td>\n",
              "      <td>1.204e-16</td>\n",
              "      <td>1.121e-16</td>\n",
              "      <td>-4.341e-16</td>\n",
              "      <td>4.578e-17</td>\n",
              "      <td>2.872e-17</td>\n",
              "      <td>5.929e-16</td>\n",
              "      <td>-2.346e-16</td>\n",
              "      <td>1.100e-15</td>\n",
              "      <td>-1.389e-15</td>\n",
              "      <td>-2.287e-16</td>\n",
              "      <td>9.147e-16</td>\n",
              "      <td>-4.425e-02</td>\n",
              "      <td>-9.773e-02</td>\n",
              "    </tr>\n",
              "    <tr>\n",
              "      <th>V10</th>\n",
              "      <td>0.031</td>\n",
              "      <td>7.434e-17</td>\n",
              "      <td>-4.782e-16</td>\n",
              "      <td>6.289e-16</td>\n",
              "      <td>6.055e-16</td>\n",
              "      <td>-6.602e-16</td>\n",
              "      <td>2.851e-16</td>\n",
              "      <td>3.043e-17</td>\n",
              "      <td>9.052e-17</td>\n",
              "      <td>-2.772e-16</td>\n",
              "      <td>1.000e+00</td>\n",
              "      <td>2.624e-16</td>\n",
              "      <td>1.440e-15</td>\n",
              "      <td>-8.854e-16</td>\n",
              "      <td>2.623e-16</td>\n",
              "      <td>7.615e-16</td>\n",
              "      <td>-1.706e-15</td>\n",
              "      <td>3.674e-15</td>\n",
              "      <td>3.987e-16</td>\n",
              "      <td>2.663e-17</td>\n",
              "      <td>-1.142e-15</td>\n",
              "      <td>8.090e-16</td>\n",
              "      <td>-6.708e-16</td>\n",
              "      <td>3.810e-16</td>\n",
              "      <td>-4.033e-17</td>\n",
              "      <td>-2.864e-16</td>\n",
              "      <td>-2.554e-16</td>\n",
              "      <td>-3.103e-16</td>\n",
              "      <td>-1.516e-16</td>\n",
              "      <td>-1.015e-01</td>\n",
              "      <td>-2.169e-01</td>\n",
              "    </tr>\n",
              "    <tr>\n",
              "      <th>V11</th>\n",
              "      <td>-0.248</td>\n",
              "      <td>2.439e-16</td>\n",
              "      <td>9.469e-16</td>\n",
              "      <td>-5.502e-17</td>\n",
              "      <td>-2.084e-16</td>\n",
              "      <td>7.343e-16</td>\n",
              "      <td>4.866e-16</td>\n",
              "      <td>-1.084e-15</td>\n",
              "      <td>1.955e-16</td>\n",
              "      <td>4.682e-16</td>\n",
              "      <td>2.624e-16</td>\n",
              "      <td>1.000e+00</td>\n",
              "      <td>3.176e-15</td>\n",
              "      <td>1.946e-15</td>\n",
              "      <td>3.637e-17</td>\n",
              "      <td>4.801e-16</td>\n",
              "      <td>-6.174e-16</td>\n",
              "      <td>8.720e-16</td>\n",
              "      <td>5.978e-16</td>\n",
              "      <td>3.216e-16</td>\n",
              "      <td>-2.310e-16</td>\n",
              "      <td>-3.912e-16</td>\n",
              "      <td>-3.812e-17</td>\n",
              "      <td>2.232e-16</td>\n",
              "      <td>1.220e-15</td>\n",
              "      <td>-4.568e-16</td>\n",
              "      <td>-1.111e-16</td>\n",
              "      <td>-2.636e-16</td>\n",
              "      <td>-3.092e-16</td>\n",
              "      <td>1.040e-04</td>\n",
              "      <td>1.549e-01</td>\n",
              "    </tr>\n",
              "    <tr>\n",
              "      <th>V12</th>\n",
              "      <td>0.124</td>\n",
              "      <td>2.422e-16</td>\n",
              "      <td>-6.588e-16</td>\n",
              "      <td>2.207e-16</td>\n",
              "      <td>-5.658e-16</td>\n",
              "      <td>3.761e-16</td>\n",
              "      <td>2.141e-16</td>\n",
              "      <td>1.510e-15</td>\n",
              "      <td>-6.266e-17</td>\n",
              "      <td>-2.445e-15</td>\n",
              "      <td>1.440e-15</td>\n",
              "      <td>3.176e-15</td>\n",
              "      <td>1.000e+00</td>\n",
              "      <td>-2.306e-14</td>\n",
              "      <td>1.762e-16</td>\n",
              "      <td>8.858e-16</td>\n",
              "      <td>3.530e-16</td>\n",
              "      <td>-9.870e-16</td>\n",
              "      <td>-5.882e-16</td>\n",
              "      <td>9.283e-17</td>\n",
              "      <td>1.277e-16</td>\n",
              "      <td>3.230e-16</td>\n",
              "      <td>-5.904e-16</td>\n",
              "      <td>1.392e-16</td>\n",
              "      <td>4.902e-16</td>\n",
              "      <td>5.054e-16</td>\n",
              "      <td>-5.759e-16</td>\n",
              "      <td>-2.313e-16</td>\n",
              "      <td>7.327e-16</td>\n",
              "      <td>-9.542e-03</td>\n",
              "      <td>-2.606e-01</td>\n",
              "    </tr>\n",
              "    <tr>\n",
              "      <th>V13</th>\n",
              "      <td>-0.066</td>\n",
              "      <td>-2.115e-16</td>\n",
              "      <td>3.855e-16</td>\n",
              "      <td>-6.883e-16</td>\n",
              "      <td>-1.506e-16</td>\n",
              "      <td>-9.579e-16</td>\n",
              "      <td>-2.268e-16</td>\n",
              "      <td>-9.892e-17</td>\n",
              "      <td>-2.383e-16</td>\n",
              "      <td>-2.650e-16</td>\n",
              "      <td>-8.854e-16</td>\n",
              "      <td>1.946e-15</td>\n",
              "      <td>-2.306e-14</td>\n",
              "      <td>1.000e+00</td>\n",
              "      <td>2.841e-15</td>\n",
              "      <td>-4.728e-16</td>\n",
              "      <td>3.362e-16</td>\n",
              "      <td>-3.188e-16</td>\n",
              "      <td>3.193e-16</td>\n",
              "      <td>-2.595e-16</td>\n",
              "      <td>2.346e-18</td>\n",
              "      <td>9.499e-17</td>\n",
              "      <td>-2.660e-17</td>\n",
              "      <td>-5.884e-16</td>\n",
              "      <td>-5.471e-16</td>\n",
              "      <td>8.067e-17</td>\n",
              "      <td>-2.122e-16</td>\n",
              "      <td>-4.520e-16</td>\n",
              "      <td>1.050e-15</td>\n",
              "      <td>5.293e-03</td>\n",
              "      <td>-4.570e-03</td>\n",
              "    </tr>\n",
              "    <tr>\n",
              "      <th>V14</th>\n",
              "      <td>-0.099</td>\n",
              "      <td>9.353e-16</td>\n",
              "      <td>-2.541e-16</td>\n",
              "      <td>4.271e-16</td>\n",
              "      <td>-8.522e-17</td>\n",
              "      <td>-3.635e-16</td>\n",
              "      <td>3.453e-16</td>\n",
              "      <td>-1.729e-16</td>\n",
              "      <td>-1.131e-16</td>\n",
              "      <td>2.343e-16</td>\n",
              "      <td>2.623e-16</td>\n",
              "      <td>3.637e-17</td>\n",
              "      <td>1.762e-16</td>\n",
              "      <td>2.841e-15</td>\n",
              "      <td>1.000e+00</td>\n",
              "      <td>4.166e-17</td>\n",
              "      <td>7.910e-17</td>\n",
              "      <td>4.626e-15</td>\n",
              "      <td>8.981e-17</td>\n",
              "      <td>-1.061e-16</td>\n",
              "      <td>-1.789e-16</td>\n",
              "      <td>1.634e-17</td>\n",
              "      <td>3.440e-16</td>\n",
              "      <td>7.621e-17</td>\n",
              "      <td>2.336e-16</td>\n",
              "      <td>-2.607e-16</td>\n",
              "      <td>-6.580e-18</td>\n",
              "      <td>1.286e-16</td>\n",
              "      <td>2.503e-15</td>\n",
              "      <td>3.375e-02</td>\n",
              "      <td>-3.025e-01</td>\n",
              "    </tr>\n",
              "    <tr>\n",
              "      <th>V15</th>\n",
              "      <td>-0.183</td>\n",
              "      <td>-3.252e-16</td>\n",
              "      <td>2.831e-16</td>\n",
              "      <td>1.123e-16</td>\n",
              "      <td>-1.508e-16</td>\n",
              "      <td>-5.133e-16</td>\n",
              "      <td>-6.368e-18</td>\n",
              "      <td>1.937e-17</td>\n",
              "      <td>2.021e-16</td>\n",
              "      <td>-1.588e-15</td>\n",
              "      <td>7.615e-16</td>\n",
              "      <td>4.801e-16</td>\n",
              "      <td>8.858e-16</td>\n",
              "      <td>-4.728e-16</td>\n",
              "      <td>4.166e-17</td>\n",
              "      <td>1.000e+00</td>\n",
              "      <td>1.336e-15</td>\n",
              "      <td>3.208e-16</td>\n",
              "      <td>7.538e-16</td>\n",
              "      <td>-8.556e-16</td>\n",
              "      <td>3.240e-16</td>\n",
              "      <td>1.947e-17</td>\n",
              "      <td>-8.937e-16</td>\n",
              "      <td>1.120e-16</td>\n",
              "      <td>-4.590e-16</td>\n",
              "      <td>3.870e-16</td>\n",
              "      <td>3.761e-16</td>\n",
              "      <td>-1.265e-15</td>\n",
              "      <td>-1.063e-15</td>\n",
              "      <td>-2.986e-03</td>\n",
              "      <td>-4.223e-03</td>\n",
              "    </tr>\n",
              "    <tr>\n",
              "      <th>V16</th>\n",
              "      <td>0.012</td>\n",
              "      <td>6.309e-16</td>\n",
              "      <td>4.934e-17</td>\n",
              "      <td>1.183e-15</td>\n",
              "      <td>-6.939e-16</td>\n",
              "      <td>-3.517e-16</td>\n",
              "      <td>-2.478e-16</td>\n",
              "      <td>2.894e-16</td>\n",
              "      <td>5.027e-16</td>\n",
              "      <td>-3.252e-16</td>\n",
              "      <td>-1.706e-15</td>\n",
              "      <td>-6.174e-16</td>\n",
              "      <td>3.530e-16</td>\n",
              "      <td>3.362e-16</td>\n",
              "      <td>7.910e-17</td>\n",
              "      <td>1.336e-15</td>\n",
              "      <td>1.000e+00</td>\n",
              "      <td>1.854e-15</td>\n",
              "      <td>-3.015e-15</td>\n",
              "      <td>1.042e-15</td>\n",
              "      <td>3.903e-16</td>\n",
              "      <td>-3.927e-16</td>\n",
              "      <td>3.878e-17</td>\n",
              "      <td>8.520e-16</td>\n",
              "      <td>-4.289e-16</td>\n",
              "      <td>-6.644e-16</td>\n",
              "      <td>-5.187e-16</td>\n",
              "      <td>7.820e-16</td>\n",
              "      <td>8.637e-16</td>\n",
              "      <td>-3.910e-03</td>\n",
              "      <td>-1.965e-01</td>\n",
              "    </tr>\n",
              "    <tr>\n",
              "      <th>V17</th>\n",
              "      <td>-0.073</td>\n",
              "      <td>-5.012e-16</td>\n",
              "      <td>-9.883e-16</td>\n",
              "      <td>4.577e-17</td>\n",
              "      <td>-4.398e-16</td>\n",
              "      <td>1.426e-16</td>\n",
              "      <td>3.568e-16</td>\n",
              "      <td>1.150e-15</td>\n",
              "      <td>-3.509e-16</td>\n",
              "      <td>6.536e-16</td>\n",
              "      <td>3.674e-15</td>\n",
              "      <td>8.720e-16</td>\n",
              "      <td>-9.870e-16</td>\n",
              "      <td>-3.188e-16</td>\n",
              "      <td>4.626e-15</td>\n",
              "      <td>3.208e-16</td>\n",
              "      <td>1.854e-15</td>\n",
              "      <td>1.000e+00</td>\n",
              "      <td>-5.585e-15</td>\n",
              "      <td>-3.917e-16</td>\n",
              "      <td>-9.887e-16</td>\n",
              "      <td>-7.754e-16</td>\n",
              "      <td>-8.390e-16</td>\n",
              "      <td>5.368e-16</td>\n",
              "      <td>-5.544e-17</td>\n",
              "      <td>4.822e-16</td>\n",
              "      <td>4.870e-16</td>\n",
              "      <td>8.844e-16</td>\n",
              "      <td>-2.183e-16</td>\n",
              "      <td>7.309e-03</td>\n",
              "      <td>-3.265e-01</td>\n",
              "    </tr>\n",
              "    <tr>\n",
              "      <th>V18</th>\n",
              "      <td>0.090</td>\n",
              "      <td>2.870e-16</td>\n",
              "      <td>2.637e-16</td>\n",
              "      <td>5.428e-16</td>\n",
              "      <td>1.494e-16</td>\n",
              "      <td>1.110e-15</td>\n",
              "      <td>2.811e-16</td>\n",
              "      <td>-1.117e-16</td>\n",
              "      <td>-4.094e-16</td>\n",
              "      <td>1.204e-16</td>\n",
              "      <td>3.987e-16</td>\n",
              "      <td>5.978e-16</td>\n",
              "      <td>-5.882e-16</td>\n",
              "      <td>3.193e-16</td>\n",
              "      <td>8.981e-17</td>\n",
              "      <td>7.538e-16</td>\n",
              "      <td>-3.015e-15</td>\n",
              "      <td>-5.585e-15</td>\n",
              "      <td>1.000e+00</td>\n",
              "      <td>-2.424e-15</td>\n",
              "      <td>-4.943e-16</td>\n",
              "      <td>-1.141e-15</td>\n",
              "      <td>-8.663e-17</td>\n",
              "      <td>-3.624e-16</td>\n",
              "      <td>-1.126e-16</td>\n",
              "      <td>-2.311e-16</td>\n",
              "      <td>3.184e-16</td>\n",
              "      <td>2.435e-16</td>\n",
              "      <td>8.845e-16</td>\n",
              "      <td>3.565e-02</td>\n",
              "      <td>-1.115e-01</td>\n",
              "    </tr>\n",
              "    <tr>\n",
              "      <th>V19</th>\n",
              "      <td>0.029</td>\n",
              "      <td>1.818e-16</td>\n",
              "      <td>9.528e-17</td>\n",
              "      <td>2.577e-16</td>\n",
              "      <td>-2.657e-16</td>\n",
              "      <td>-3.138e-16</td>\n",
              "      <td>2.717e-16</td>\n",
              "      <td>-2.874e-16</td>\n",
              "      <td>-5.340e-16</td>\n",
              "      <td>1.121e-16</td>\n",
              "      <td>2.663e-17</td>\n",
              "      <td>3.216e-16</td>\n",
              "      <td>9.283e-17</td>\n",
              "      <td>-2.595e-16</td>\n",
              "      <td>-1.061e-16</td>\n",
              "      <td>-8.556e-16</td>\n",
              "      <td>1.042e-15</td>\n",
              "      <td>-3.917e-16</td>\n",
              "      <td>-2.424e-15</td>\n",
              "      <td>1.000e+00</td>\n",
              "      <td>2.938e-16</td>\n",
              "      <td>4.033e-16</td>\n",
              "      <td>-9.690e-16</td>\n",
              "      <td>5.734e-16</td>\n",
              "      <td>3.127e-17</td>\n",
              "      <td>7.415e-16</td>\n",
              "      <td>5.614e-16</td>\n",
              "      <td>-1.113e-16</td>\n",
              "      <td>-1.376e-15</td>\n",
              "      <td>-5.615e-02</td>\n",
              "      <td>3.478e-02</td>\n",
              "    </tr>\n",
              "    <tr>\n",
              "      <th>V20</th>\n",
              "      <td>-0.051</td>\n",
              "      <td>1.037e-16</td>\n",
              "      <td>-9.310e-16</td>\n",
              "      <td>-9.429e-16</td>\n",
              "      <td>-3.223e-16</td>\n",
              "      <td>2.076e-16</td>\n",
              "      <td>1.899e-16</td>\n",
              "      <td>1.744e-16</td>\n",
              "      <td>-1.096e-16</td>\n",
              "      <td>-4.341e-16</td>\n",
              "      <td>-1.142e-15</td>\n",
              "      <td>-2.310e-16</td>\n",
              "      <td>1.277e-16</td>\n",
              "      <td>2.346e-18</td>\n",
              "      <td>-1.789e-16</td>\n",
              "      <td>3.240e-16</td>\n",
              "      <td>3.903e-16</td>\n",
              "      <td>-9.887e-16</td>\n",
              "      <td>-4.943e-16</td>\n",
              "      <td>2.938e-16</td>\n",
              "      <td>1.000e+00</td>\n",
              "      <td>-1.121e-15</td>\n",
              "      <td>1.106e-15</td>\n",
              "      <td>4.987e-16</td>\n",
              "      <td>1.637e-16</td>\n",
              "      <td>-1.518e-16</td>\n",
              "      <td>-2.975e-16</td>\n",
              "      <td>-1.446e-15</td>\n",
              "      <td>-1.134e-16</td>\n",
              "      <td>3.394e-01</td>\n",
              "      <td>2.009e-02</td>\n",
              "    </tr>\n",
              "    <tr>\n",
              "      <th>V21</th>\n",
              "      <td>0.045</td>\n",
              "      <td>-1.755e-16</td>\n",
              "      <td>8.444e-17</td>\n",
              "      <td>-2.972e-17</td>\n",
              "      <td>-9.977e-17</td>\n",
              "      <td>-1.369e-16</td>\n",
              "      <td>-1.576e-16</td>\n",
              "      <td>1.939e-16</td>\n",
              "      <td>-2.412e-16</td>\n",
              "      <td>4.578e-17</td>\n",
              "      <td>8.090e-16</td>\n",
              "      <td>-3.912e-16</td>\n",
              "      <td>3.230e-16</td>\n",
              "      <td>9.499e-17</td>\n",
              "      <td>1.634e-17</td>\n",
              "      <td>1.947e-17</td>\n",
              "      <td>-3.927e-16</td>\n",
              "      <td>-7.754e-16</td>\n",
              "      <td>-1.141e-15</td>\n",
              "      <td>4.033e-16</td>\n",
              "      <td>-1.121e-15</td>\n",
              "      <td>1.000e+00</td>\n",
              "      <td>3.906e-15</td>\n",
              "      <td>6.127e-16</td>\n",
              "      <td>1.298e-16</td>\n",
              "      <td>-2.826e-16</td>\n",
              "      <td>-4.907e-16</td>\n",
              "      <td>-1.033e-15</td>\n",
              "      <td>5.132e-16</td>\n",
              "      <td>1.060e-01</td>\n",
              "      <td>4.041e-02</td>\n",
              "    </tr>\n",
              "    <tr>\n",
              "      <th>V22</th>\n",
              "      <td>0.144</td>\n",
              "      <td>7.477e-17</td>\n",
              "      <td>2.501e-16</td>\n",
              "      <td>4.648e-16</td>\n",
              "      <td>2.100e-16</td>\n",
              "      <td>5.060e-16</td>\n",
              "      <td>-3.363e-16</td>\n",
              "      <td>-1.058e-15</td>\n",
              "      <td>5.476e-16</td>\n",
              "      <td>2.872e-17</td>\n",
              "      <td>-6.708e-16</td>\n",
              "      <td>-3.812e-17</td>\n",
              "      <td>-5.904e-16</td>\n",
              "      <td>-2.660e-17</td>\n",
              "      <td>3.440e-16</td>\n",
              "      <td>-8.937e-16</td>\n",
              "      <td>3.878e-17</td>\n",
              "      <td>-8.390e-16</td>\n",
              "      <td>-8.663e-17</td>\n",
              "      <td>-9.690e-16</td>\n",
              "      <td>1.106e-15</td>\n",
              "      <td>3.906e-15</td>\n",
              "      <td>1.000e+00</td>\n",
              "      <td>3.131e-16</td>\n",
              "      <td>1.151e-17</td>\n",
              "      <td>-6.079e-16</td>\n",
              "      <td>-8.477e-16</td>\n",
              "      <td>-1.295e-16</td>\n",
              "      <td>-3.021e-16</td>\n",
              "      <td>-6.480e-02</td>\n",
              "      <td>8.053e-04</td>\n",
              "    </tr>\n",
              "    <tr>\n",
              "      <th>V23</th>\n",
              "      <td>0.051</td>\n",
              "      <td>9.809e-16</td>\n",
              "      <td>1.060e-16</td>\n",
              "      <td>2.115e-17</td>\n",
              "      <td>6.003e-17</td>\n",
              "      <td>1.638e-16</td>\n",
              "      <td>-7.232e-17</td>\n",
              "      <td>2.328e-16</td>\n",
              "      <td>3.897e-16</td>\n",
              "      <td>5.929e-16</td>\n",
              "      <td>3.810e-16</td>\n",
              "      <td>2.232e-16</td>\n",
              "      <td>1.392e-16</td>\n",
              "      <td>-5.884e-16</td>\n",
              "      <td>7.621e-17</td>\n",
              "      <td>1.120e-16</td>\n",
              "      <td>8.520e-16</td>\n",
              "      <td>5.368e-16</td>\n",
              "      <td>-3.624e-16</td>\n",
              "      <td>5.734e-16</td>\n",
              "      <td>4.987e-16</td>\n",
              "      <td>6.127e-16</td>\n",
              "      <td>3.131e-16</td>\n",
              "      <td>1.000e+00</td>\n",
              "      <td>-4.411e-17</td>\n",
              "      <td>-9.938e-16</td>\n",
              "      <td>8.849e-16</td>\n",
              "      <td>5.524e-16</td>\n",
              "      <td>9.030e-16</td>\n",
              "      <td>-1.126e-01</td>\n",
              "      <td>-2.685e-03</td>\n",
              "    </tr>\n",
              "    <tr>\n",
              "      <th>V24</th>\n",
              "      <td>-0.016</td>\n",
              "      <td>7.354e-17</td>\n",
              "      <td>-8.142e-18</td>\n",
              "      <td>-9.352e-17</td>\n",
              "      <td>2.230e-16</td>\n",
              "      <td>-9.286e-16</td>\n",
              "      <td>-1.262e-15</td>\n",
              "      <td>-2.590e-17</td>\n",
              "      <td>-1.803e-16</td>\n",
              "      <td>-2.346e-16</td>\n",
              "      <td>-4.033e-17</td>\n",
              "      <td>1.220e-15</td>\n",
              "      <td>4.902e-16</td>\n",
              "      <td>-5.471e-16</td>\n",
              "      <td>2.336e-16</td>\n",
              "      <td>-4.590e-16</td>\n",
              "      <td>-4.289e-16</td>\n",
              "      <td>-5.544e-17</td>\n",
              "      <td>-1.126e-16</td>\n",
              "      <td>3.127e-17</td>\n",
              "      <td>1.637e-16</td>\n",
              "      <td>1.298e-16</td>\n",
              "      <td>1.151e-17</td>\n",
              "      <td>-4.411e-17</td>\n",
              "      <td>1.000e+00</td>\n",
              "      <td>1.557e-15</td>\n",
              "      <td>3.129e-16</td>\n",
              "      <td>-3.737e-16</td>\n",
              "      <td>-2.259e-16</td>\n",
              "      <td>5.146e-03</td>\n",
              "      <td>-7.221e-03</td>\n",
              "    </tr>\n",
              "    <tr>\n",
              "      <th>V25</th>\n",
              "      <td>-0.233</td>\n",
              "      <td>-9.805e-16</td>\n",
              "      <td>-4.262e-17</td>\n",
              "      <td>4.771e-16</td>\n",
              "      <td>5.395e-16</td>\n",
              "      <td>5.625e-16</td>\n",
              "      <td>1.082e-15</td>\n",
              "      <td>1.174e-15</td>\n",
              "      <td>-1.391e-16</td>\n",
              "      <td>1.100e-15</td>\n",
              "      <td>-2.864e-16</td>\n",
              "      <td>-4.568e-16</td>\n",
              "      <td>5.054e-16</td>\n",
              "      <td>8.067e-17</td>\n",
              "      <td>-2.607e-16</td>\n",
              "      <td>3.870e-16</td>\n",
              "      <td>-6.644e-16</td>\n",
              "      <td>4.822e-16</td>\n",
              "      <td>-2.311e-16</td>\n",
              "      <td>7.415e-16</td>\n",
              "      <td>-1.518e-16</td>\n",
              "      <td>-2.826e-16</td>\n",
              "      <td>-6.079e-16</td>\n",
              "      <td>-9.938e-16</td>\n",
              "      <td>1.557e-15</td>\n",
              "      <td>1.000e+00</td>\n",
              "      <td>2.811e-15</td>\n",
              "      <td>-6.107e-16</td>\n",
              "      <td>3.399e-16</td>\n",
              "      <td>-4.784e-02</td>\n",
              "      <td>3.308e-03</td>\n",
              "    </tr>\n",
              "    <tr>\n",
              "      <th>V26</th>\n",
              "      <td>-0.041</td>\n",
              "      <td>-8.622e-17</td>\n",
              "      <td>2.602e-16</td>\n",
              "      <td>6.522e-16</td>\n",
              "      <td>-6.180e-16</td>\n",
              "      <td>9.145e-16</td>\n",
              "      <td>-2.378e-16</td>\n",
              "      <td>-7.335e-16</td>\n",
              "      <td>-1.210e-16</td>\n",
              "      <td>-1.389e-15</td>\n",
              "      <td>-2.554e-16</td>\n",
              "      <td>-1.111e-16</td>\n",
              "      <td>-5.759e-16</td>\n",
              "      <td>-2.122e-16</td>\n",
              "      <td>-6.580e-18</td>\n",
              "      <td>3.761e-16</td>\n",
              "      <td>-5.187e-16</td>\n",
              "      <td>4.870e-16</td>\n",
              "      <td>3.184e-16</td>\n",
              "      <td>5.614e-16</td>\n",
              "      <td>-2.975e-16</td>\n",
              "      <td>-4.907e-16</td>\n",
              "      <td>-8.477e-16</td>\n",
              "      <td>8.849e-16</td>\n",
              "      <td>3.129e-16</td>\n",
              "      <td>2.811e-15</td>\n",
              "      <td>1.000e+00</td>\n",
              "      <td>-3.384e-16</td>\n",
              "      <td>-3.751e-16</td>\n",
              "      <td>-3.208e-03</td>\n",
              "      <td>4.455e-03</td>\n",
              "    </tr>\n",
              "    <tr>\n",
              "      <th>V27</th>\n",
              "      <td>-0.005</td>\n",
              "      <td>3.208e-17</td>\n",
              "      <td>-4.478e-16</td>\n",
              "      <td>6.240e-16</td>\n",
              "      <td>-6.403e-17</td>\n",
              "      <td>4.466e-16</td>\n",
              "      <td>-2.624e-16</td>\n",
              "      <td>-5.887e-16</td>\n",
              "      <td>1.734e-16</td>\n",
              "      <td>-2.287e-16</td>\n",
              "      <td>-3.103e-16</td>\n",
              "      <td>-2.636e-16</td>\n",
              "      <td>-2.313e-16</td>\n",
              "      <td>-4.520e-16</td>\n",
              "      <td>1.286e-16</td>\n",
              "      <td>-1.265e-15</td>\n",
              "      <td>7.820e-16</td>\n",
              "      <td>8.844e-16</td>\n",
              "      <td>2.435e-16</td>\n",
              "      <td>-1.113e-16</td>\n",
              "      <td>-1.446e-15</td>\n",
              "      <td>-1.033e-15</td>\n",
              "      <td>-1.295e-16</td>\n",
              "      <td>5.524e-16</td>\n",
              "      <td>-3.737e-16</td>\n",
              "      <td>-6.107e-16</td>\n",
              "      <td>-3.384e-16</td>\n",
              "      <td>1.000e+00</td>\n",
              "      <td>-3.770e-16</td>\n",
              "      <td>2.883e-02</td>\n",
              "      <td>1.758e-02</td>\n",
              "    </tr>\n",
              "    <tr>\n",
              "      <th>V28</th>\n",
              "      <td>-0.009</td>\n",
              "      <td>9.821e-16</td>\n",
              "      <td>-3.676e-16</td>\n",
              "      <td>7.727e-16</td>\n",
              "      <td>-5.864e-17</td>\n",
              "      <td>-3.299e-16</td>\n",
              "      <td>4.813e-16</td>\n",
              "      <td>-6.837e-17</td>\n",
              "      <td>-4.484e-16</td>\n",
              "      <td>9.147e-16</td>\n",
              "      <td>-1.516e-16</td>\n",
              "      <td>-3.092e-16</td>\n",
              "      <td>7.327e-16</td>\n",
              "      <td>1.050e-15</td>\n",
              "      <td>2.503e-15</td>\n",
              "      <td>-1.063e-15</td>\n",
              "      <td>8.637e-16</td>\n",
              "      <td>-2.183e-16</td>\n",
              "      <td>8.845e-16</td>\n",
              "      <td>-1.376e-15</td>\n",
              "      <td>-1.134e-16</td>\n",
              "      <td>5.132e-16</td>\n",
              "      <td>-3.021e-16</td>\n",
              "      <td>9.030e-16</td>\n",
              "      <td>-2.259e-16</td>\n",
              "      <td>3.399e-16</td>\n",
              "      <td>-3.751e-16</td>\n",
              "      <td>-3.770e-16</td>\n",
              "      <td>1.000e+00</td>\n",
              "      <td>1.026e-02</td>\n",
              "      <td>9.536e-03</td>\n",
              "    </tr>\n",
              "    <tr>\n",
              "      <th>Amount</th>\n",
              "      <td>-0.011</td>\n",
              "      <td>-2.277e-01</td>\n",
              "      <td>-5.314e-01</td>\n",
              "      <td>-2.109e-01</td>\n",
              "      <td>9.873e-02</td>\n",
              "      <td>-3.864e-01</td>\n",
              "      <td>2.160e-01</td>\n",
              "      <td>3.973e-01</td>\n",
              "      <td>-1.031e-01</td>\n",
              "      <td>-4.425e-02</td>\n",
              "      <td>-1.015e-01</td>\n",
              "      <td>1.040e-04</td>\n",
              "      <td>-9.542e-03</td>\n",
              "      <td>5.293e-03</td>\n",
              "      <td>3.375e-02</td>\n",
              "      <td>-2.986e-03</td>\n",
              "      <td>-3.910e-03</td>\n",
              "      <td>7.309e-03</td>\n",
              "      <td>3.565e-02</td>\n",
              "      <td>-5.615e-02</td>\n",
              "      <td>3.394e-01</td>\n",
              "      <td>1.060e-01</td>\n",
              "      <td>-6.480e-02</td>\n",
              "      <td>-1.126e-01</td>\n",
              "      <td>5.146e-03</td>\n",
              "      <td>-4.784e-02</td>\n",
              "      <td>-3.208e-03</td>\n",
              "      <td>2.883e-02</td>\n",
              "      <td>1.026e-02</td>\n",
              "      <td>1.000e+00</td>\n",
              "      <td>5.632e-03</td>\n",
              "    </tr>\n",
              "    <tr>\n",
              "      <th>Class</th>\n",
              "      <td>-0.012</td>\n",
              "      <td>-1.013e-01</td>\n",
              "      <td>9.129e-02</td>\n",
              "      <td>-1.930e-01</td>\n",
              "      <td>1.334e-01</td>\n",
              "      <td>-9.497e-02</td>\n",
              "      <td>-4.364e-02</td>\n",
              "      <td>-1.873e-01</td>\n",
              "      <td>1.988e-02</td>\n",
              "      <td>-9.773e-02</td>\n",
              "      <td>-2.169e-01</td>\n",
              "      <td>1.549e-01</td>\n",
              "      <td>-2.606e-01</td>\n",
              "      <td>-4.570e-03</td>\n",
              "      <td>-3.025e-01</td>\n",
              "      <td>-4.223e-03</td>\n",
              "      <td>-1.965e-01</td>\n",
              "      <td>-3.265e-01</td>\n",
              "      <td>-1.115e-01</td>\n",
              "      <td>3.478e-02</td>\n",
              "      <td>2.009e-02</td>\n",
              "      <td>4.041e-02</td>\n",
              "      <td>8.053e-04</td>\n",
              "      <td>-2.685e-03</td>\n",
              "      <td>-7.221e-03</td>\n",
              "      <td>3.308e-03</td>\n",
              "      <td>4.455e-03</td>\n",
              "      <td>1.758e-02</td>\n",
              "      <td>9.536e-03</td>\n",
              "      <td>5.632e-03</td>\n",
              "      <td>1.000e+00</td>\n",
              "    </tr>\n",
              "  </tbody>\n",
              "</table>\n",
              "</div>"
            ],
            "text/plain": [
              "         Time         V1         V2  ...        V28     Amount      Class\n",
              "Time    1.000  1.174e-01 -1.059e-02  ... -9.413e-03 -1.060e-02 -1.232e-02\n",
              "V1      0.117  1.000e+00  4.697e-17  ...  9.821e-16 -2.277e-01 -1.013e-01\n",
              "V2     -0.011  4.697e-17  1.000e+00  ... -3.676e-16 -5.314e-01  9.129e-02\n",
              "V3     -0.420 -1.424e-15  2.512e-16  ...  7.727e-16 -2.109e-01 -1.930e-01\n",
              "V4     -0.105  1.755e-17 -1.126e-16  ... -5.864e-17  9.873e-02  1.334e-01\n",
              "V5      0.173  6.391e-17 -2.040e-16  ... -3.299e-16 -3.864e-01 -9.497e-02\n",
              "V6     -0.063  2.398e-16  5.025e-16  ...  4.813e-16  2.160e-01 -4.364e-02\n",
              "V7      0.085  1.992e-15  3.966e-16  ... -6.837e-17  3.973e-01 -1.873e-01\n",
              "V8     -0.037 -9.491e-17 -4.414e-17  ... -4.484e-16 -1.031e-01  1.988e-02\n",
              "V9     -0.009  2.170e-16 -5.729e-17  ...  9.147e-16 -4.425e-02 -9.773e-02\n",
              "V10     0.031  7.434e-17 -4.782e-16  ... -1.516e-16 -1.015e-01 -2.169e-01\n",
              "V11    -0.248  2.439e-16  9.469e-16  ... -3.092e-16  1.040e-04  1.549e-01\n",
              "V12     0.124  2.422e-16 -6.588e-16  ...  7.327e-16 -9.542e-03 -2.606e-01\n",
              "V13    -0.066 -2.115e-16  3.855e-16  ...  1.050e-15  5.293e-03 -4.570e-03\n",
              "V14    -0.099  9.353e-16 -2.541e-16  ...  2.503e-15  3.375e-02 -3.025e-01\n",
              "V15    -0.183 -3.252e-16  2.831e-16  ... -1.063e-15 -2.986e-03 -4.223e-03\n",
              "V16     0.012  6.309e-16  4.934e-17  ...  8.637e-16 -3.910e-03 -1.965e-01\n",
              "V17    -0.073 -5.012e-16 -9.883e-16  ... -2.183e-16  7.309e-03 -3.265e-01\n",
              "V18     0.090  2.870e-16  2.637e-16  ...  8.845e-16  3.565e-02 -1.115e-01\n",
              "V19     0.029  1.818e-16  9.528e-17  ... -1.376e-15 -5.615e-02  3.478e-02\n",
              "V20    -0.051  1.037e-16 -9.310e-16  ... -1.134e-16  3.394e-01  2.009e-02\n",
              "V21     0.045 -1.755e-16  8.444e-17  ...  5.132e-16  1.060e-01  4.041e-02\n",
              "V22     0.144  7.477e-17  2.501e-16  ... -3.021e-16 -6.480e-02  8.053e-04\n",
              "V23     0.051  9.809e-16  1.060e-16  ...  9.030e-16 -1.126e-01 -2.685e-03\n",
              "V24    -0.016  7.354e-17 -8.142e-18  ... -2.259e-16  5.146e-03 -7.221e-03\n",
              "V25    -0.233 -9.805e-16 -4.262e-17  ...  3.399e-16 -4.784e-02  3.308e-03\n",
              "V26    -0.041 -8.622e-17  2.602e-16  ... -3.751e-16 -3.208e-03  4.455e-03\n",
              "V27    -0.005  3.208e-17 -4.478e-16  ... -3.770e-16  2.883e-02  1.758e-02\n",
              "V28    -0.009  9.821e-16 -3.676e-16  ...  1.000e+00  1.026e-02  9.536e-03\n",
              "Amount -0.011 -2.277e-01 -5.314e-01  ...  1.026e-02  1.000e+00  5.632e-03\n",
              "Class  -0.012 -1.013e-01  9.129e-02  ...  9.536e-03  5.632e-03  1.000e+00\n",
              "\n",
              "[31 rows x 31 columns]"
            ]
          },
          "metadata": {
            "tags": []
          },
          "execution_count": 32
        }
      ]
    },
    {
      "cell_type": "code",
      "metadata": {
        "id": "WaQVbFgCVxsM",
        "colab_type": "code",
        "colab": {
          "base_uri": "https://localhost:8080/",
          "height": 655
        },
        "outputId": "a4634c6e-04ed-427b-ed29-d9d8d140c351"
      },
      "source": [
        "#heatmap\n",
        "corr = creditcard.corr()\n",
        "plt.figure(figsize=(12,10))\n",
        "heat = sns.heatmap(data=corr)\n",
        "plt.title('Heatmap of Correlation')"
      ],
      "execution_count": 33,
      "outputs": [
        {
          "output_type": "execute_result",
          "data": {
            "text/plain": [
              "Text(0.5, 1.0, 'Heatmap of Correlation')"
            ]
          },
          "metadata": {
            "tags": []
          },
          "execution_count": 33
        },
        {
          "output_type": "display_data",
          "data": {
            "image/png": "[encoded data removed]",
            "text/plain": [
              "<Figure size 864x720 with 2 Axes>"
            ]
          },
          "metadata": {
            "tags": []
          }
        }
      ]
    },
    {
      "cell_type": "code",
      "metadata": {
        "id": "wiLPTVh3txYi",
        "colab_type": "code",
        "colab": {
          "base_uri": "https://localhost:8080/",
          "height": 660
        },
        "outputId": "f1efdb47-8d4f-4a2d-cea8-3604bc171104"
      },
      "source": [
        "def foo(plot_rows,plot_col,i,col):\n",
        "    plt.subplot(plot_rows,plot_col,i)\n",
        "    sns.boxplot(x='Class',y=col,data=creditcard)\n",
        "\n",
        "plt.figure(figsize=(24,12))\n",
        "axs = [ foo(6,5,i,'V'+str(i)) for i in range(1,29)]\n"
      ],
      "execution_count": 20,
      "outputs": [
        {
          "output_type": "display_data",
          "data": {
            "image/png": "[encoded data removed]",
            "text/plain": [
              "<Figure size 1728x864 with 28 Axes>"
            ]
          },
          "metadata": {
            "tags": [],
            "needs_background": "light"
          }
        }
      ]
    },
    {
      "cell_type": "code",
      "metadata": {
        "id": "ACtKZJ7eFwRo",
        "colab_type": "code",
        "colab": {
          "base_uri": "https://localhost:8080/",
          "height": 278
        },
        "outputId": "89874aee-c69f-4d58-fa82-8fb6c79b5fdc"
      },
      "source": [
        "sns.boxplot(x = \"Class\", y = \"Time\", data = creditcard)\n",
        "plt.show()"
      ],
      "execution_count": 21,
      "outputs": [
        {
          "output_type": "display_data",
          "data": {
            "image/png": "[encoded data removed]",
            "text/plain": [
              "<Figure size 432x288 with 1 Axes>"
            ]
          },
          "metadata": {
            "tags": [],
            "needs_background": "light"
          }
        }
      ]
    },
    {
      "cell_type": "code",
      "metadata": {
        "id": "fVUhmVkT09Zb",
        "colab_type": "code",
        "colab": {}
      },
      "source": [
        "sns.set_style(\"whitegrid\")\n",
        "sns.FacetGrid(creditcard, hue=\"Class\", size = 6).map(plt.scatter, \"Time\", \"Amount\").add_legend()\n",
        "plt.show()"
      ],
      "execution_count": null,
      "outputs": []
    },
    {
      "cell_type": "markdown",
      "metadata": {
        "id": "LrurYDXdFwRr",
        "colab_type": "text"
      },
      "source": [
        "Observations:\n",
        "\n",
        "By looking at the above box plot we can say that both fraud & genuine transactions occur throughout time and there is no distinction between them."
      ]
    },
    {
      "cell_type": "code",
      "metadata": {
        "id": "eO6e7PhB5OuR",
        "colab_type": "code",
        "colab": {}
      },
      "source": [
        "sns.scatterplot(x = \"Class\", y = \"Amount\", data = creditcard)\n",
        "plt.show()"
      ],
      "execution_count": null,
      "outputs": []
    },
    {
      "cell_type": "markdown",
      "metadata": {
        "id": "5nAc8QOeFwRu",
        "colab_type": "text"
      },
      "source": [
        "Observations:\n",
        "\n",
        "From above box plot we can easily infer that there are no fraud transactions occur above the transaction amount of 3000. All of the fraud transactions have transaction amount less than 3000. However, there are many transactions which have a transaction amount greater than 3000 and all of them are genuine."
      ]
    },
    {
      "cell_type": "code",
      "metadata": {
        "id": "xCu2Infx83Pt",
        "colab_type": "code",
        "colab": {}
      },
      "source": [
        "import seaborn as sns\n",
        "import matplotlib.pyplot as plt\n",
        "col='V4'\n",
        "\n",
        "sns.distplot(creditcard[col][creditcard.Class == 1], bins=50, color='r')\n",
        "sns.distplot(creditcard[col][creditcard.Class == 0], bins=50, color='g')\n",
        "plt.show()"
      ],
      "execution_count": null,
      "outputs": []
    },
    {
      "cell_type": "markdown",
      "metadata": {
        "id": "eeLFM-jTloZt",
        "colab_type": "text"
      },
      "source": [
        "# Differnat classification on data as is (unbalanced) [OK]"
      ]
    },
    {
      "cell_type": "code",
      "metadata": {
        "id": "l42qxWRa4L5Y",
        "colab_type": "code",
        "colab": {
          "base_uri": "https://localhost:8080/",
          "height": 34
        },
        "outputId": "a7f2027d-3ea2-44fd-c311-6c87e822dd95"
      },
      "source": [
        "from sklearn.model_selection import train_test_split\n",
        "x = creditcard.drop('Class',axis=1)\n",
        "y = creditcard.Class\n",
        "x_train, x_test, y_train, y_test = train_test_split(x,y,test_size=0.2)\n",
        "print('size of test dataset = {}, size of traing data = {}, percentage = {}%'.format(len(x_test),len(x_train),len(x_test)*100/(len(x_test) + len(x_train))))"
      ],
      "execution_count": 8,
      "outputs": [
        {
          "output_type": "stream",
          "text": [
            "size of test dataset = 56962, size of traing data = 227845, percentage = 20.000210668979342%\n"
          ],
          "name": "stdout"
        }
      ]
    },
    {
      "cell_type": "code",
      "metadata": {
        "id": "0LcJURKW4uTK",
        "colab_type": "code",
        "colab": {}
      },
      "source": [
        "x"
      ],
      "execution_count": null,
      "outputs": []
    },
    {
      "cell_type": "code",
      "metadata": {
        "id": "eiaplVab4vu_",
        "colab_type": "code",
        "colab": {}
      },
      "source": [
        "y"
      ],
      "execution_count": null,
      "outputs": []
    },
    {
      "cell_type": "code",
      "metadata": {
        "id": "S-5r_eDW15Nu",
        "colab_type": "code",
        "colab": {}
      },
      "source": [
        "\n"
      ],
      "execution_count": null,
      "outputs": []
    },
    {
      "cell_type": "code",
      "metadata": {
        "id": "il-Q3p2i5urf",
        "colab_type": "code",
        "colab": {
          "base_uri": "https://localhost:8080/",
          "height": 194
        },
        "outputId": "66201812-1126-490d-d2f2-ff5f8e7483f3"
      },
      "source": [
        "## logistic regression\n",
        "from sklearn.linear_model import LogisticRegression\n",
        "model_lr = LogisticRegression()\n",
        "model_lr.fit(x_train, y_train)\n",
        "ACC_train_lr = model_lr.score(x_train, y_train)\n",
        "ACC_test_lr = model_lr.score(x_test, y_test)\n",
        "print(ACC_train_lr*100)\n",
        "print(ACC_test_lr*100)"
      ],
      "execution_count": 9,
      "outputs": [
        {
          "output_type": "stream",
          "text": [
            "99.89027628431609\n",
            "99.89466661985183\n"
          ],
          "name": "stdout"
        },
        {
          "output_type": "stream",
          "text": [
            "/usr/local/lib/python3.6/dist-packages/sklearn/linear_model/_logistic.py:940: ConvergenceWarning: lbfgs failed to converge (status=1):\n",
            "STOP: TOTAL NO. of ITERATIONS REACHED LIMIT.\n",
            "\n",
            "Increase the number of iterations (max_iter) or scale the data as shown in:\n",
            "    https://scikit-learn.org/stable/modules/preprocessing.html\n",
            "Please also refer to the documentation for alternative solver options:\n",
            "    https://scikit-learn.org/stable/modules/linear_model.html#logistic-regression\n",
            "  extra_warning_msg=_LOGISTIC_SOLVER_CONVERGENCE_MSG)\n"
          ],
          "name": "stderr"
        }
      ]
    },
    {
      "cell_type": "code",
      "metadata": {
        "id": "ZFj46Gds5RlJ",
        "colab_type": "code",
        "colab": {}
      },
      "source": [
        "##  Decision tree\n",
        "from sklearn import tree\n",
        "model_dt = tree.DecisionTreeClassifier()\n",
        "model_dt.fit(x_train,y_train)\n",
        "ACC_train_dt = model_dt.score(x_train,y_train)\n",
        "ACC_test_dt = model_dt.score(x_test,y_test)\n",
        "print(ACC_train_dt*100)\n",
        "print(ACC_test_dt*100)"
      ],
      "execution_count": null,
      "outputs": []
    },
    {
      "cell_type": "code",
      "metadata": {
        "id": "2S6Ner1c65NK",
        "colab_type": "code",
        "colab": {}
      },
      "source": [
        "## Support Vector Machine\n",
        "from sklearn.svm import SVC \n",
        "model_svm = SVC()\n",
        "model_svm.fit(x_train, y_train)\n",
        "ACC_train_svm = model_svm.score(x_train, y_train)\n",
        "ACC_test_svm = model_svm.score(x_test, y_test)\n",
        "print(ACC_train_svm*100)\n",
        "print(ACC_test_svm*100)\n"
      ],
      "execution_count": null,
      "outputs": []
    },
    {
      "cell_type": "code",
      "metadata": {
        "id": "c4jkgEHG7li2",
        "colab_type": "code",
        "colab": {
          "base_uri": "https://localhost:8080/",
          "height": 52
        },
        "outputId": "d7894124-85a6-40ce-c349-320516258983"
      },
      "source": [
        "## Random Forest \n",
        "from sklearn.ensemble import RandomForestClassifier \n",
        "model_rf = RandomForestClassifier()\n",
        "model_rf.fit(x_train,y_train)\n",
        "ACC_train_rf = model_rf.score(x_train, y_train)\n",
        "ACC_test_rf = model_rf.score(x_test, y_test)\n",
        "print(ACC_train_rf*100)\n",
        "print(ACC_test_rf*100)"
      ],
      "execution_count": 10,
      "outputs": [
        {
          "output_type": "stream",
          "text": [
            "100.0\n",
            "99.96137776061234\n"
          ],
          "name": "stdout"
        }
      ]
    },
    {
      "cell_type": "code",
      "metadata": {
        "id": "qcvqTBP8D8y3",
        "colab_type": "code",
        "colab": {}
      },
      "source": [
        "## Naive Bayse\n",
        "from sklearn.naive_bayes import GaussianNB\n",
        "model_nb = GaussianNB()\n",
        "model_nb.fit(x_train,y_train)\n",
        "ACC_train_nb = model_nb.score(x_train,y_train)\n",
        "ACC_test_nb = model_nb.score(x_test,y_test)\n",
        "print(ACC_train_nb*100)\n",
        "print(ACC_test_nb*100)"
      ],
      "execution_count": null,
      "outputs": []
    },
    {
      "cell_type": "code",
      "metadata": {
        "id": "MmKCgZ4z56pH",
        "colab_type": "code",
        "colab": {}
      },
      "source": [
        "from prettytable import PrettyTable\n",
        "t = PrettyTable(['Accuracy', 'Logistic (%)' , 'DT (%)' , 'SVM (%)' , 'RF (%)' , 'NB (%)'])\n",
        "t.add_row(['Training', ACC_train_lr*100, ACC_train_dt*100, ACC_train_svm*100, ACC_train_rf*100 , ACC_train_nb*100])\n",
        "t.add_row(['Testing', ACC_test_lr*100, ACC_test_dt*100, ACC_test_svm*100, ACC_test_rf*100 , ACC_test_nb*100])\n",
        "print(t)"
      ],
      "execution_count": null,
      "outputs": []
    },
    {
      "cell_type": "code",
      "metadata": {
        "id": "xzEUWiVaIHJd",
        "colab_type": "code",
        "colab": {}
      },
      "source": [
        "# use differant performance metric on DT\n",
        "lr_pred = model_lr.predict(x_test)\n",
        "dt_pred = model_dt.predict(x_test)\n",
        "svm_pred = model_svm.predict(x_test)\n",
        "rf_pred = model_rf.predict(x_test)\n",
        "nb_pred = model_nb.predict(x_test)"
      ],
      "execution_count": null,
      "outputs": []
    },
    {
      "cell_type": "code",
      "metadata": {
        "id": "ERTfR-U2Q4Jh",
        "colab_type": "code",
        "colab": {}
      },
      "source": [
        "from sklearn.metrics import accuracy_score\n",
        "lr_accuracy_score=  accuracy_score(y_test, lr_pred)\n",
        "dt_accuracy_score=  accuracy_score(y_test, dt_pred)\n",
        "svm_accuracy_score=  accuracy_score(y_test, svm_pred)\n",
        "rf_accuracy_score=  accuracy_score(y_test, rf_pred)\n",
        "nb_accuracy_score=  accuracy_score(y_test, nb_pred)\n",
        "\n",
        "from sklearn.metrics import f1_score\n",
        "# f1 score : F1 score reaches its best value at 1 and worst score at 0\n",
        "lr_f1_score= f1_score(y_test, lr_pred)\n",
        "dt_f1_score= f1_score(y_test, dt_pred)\n",
        "svm_f1_score= f1_score(y_test, svm_pred)\n",
        "rf_f1_score= f1_score(y_test, rf_pred)\n",
        "nb_f1_score= f1_score(y_test, nb_pred)\n",
        "\n",
        "from sklearn.metrics import recall_score\n",
        "# recall score : The best value is 1 and the worst value is 0\n",
        "lr_recall_score= recall_score(y_test, lr_pred)\n",
        "dt_recall_score= recall_score(y_test, dt_pred)\n",
        "svm_recall_score= recall_score(y_test, svm_pred)\n",
        "rf_recall_score= recall_score(y_test, rf_pred)\n",
        "nb_recall_score= recall_score(y_test, nb_pred)"
      ],
      "execution_count": null,
      "outputs": []
    },
    {
      "cell_type": "code",
      "metadata": {
        "id": "UcXURv4OJWfS",
        "colab_type": "code",
        "colab": {}
      },
      "source": [
        "############################ testing RF with Cross Validation as it scores lower than expected\n",
        "\n",
        "from sklearn.model_selection import cross_val_score\n",
        "from sklearn.ensemble import RandomForestClassifier\n",
        "ACC_test_rf1 = cross_val_score(RandomForestClassifier(),x,y)\n",
        "print(ACC_test_rf1)\n",
        "###########\n",
        "ACC_test_rf2 = cross_val_score(RandomForestClassifier(n_estimators=100,oob_score=True),x,y)\n",
        "print(ACC_test_rf2)\n",
        "############################\n",
        "ACC_test_rf3 = cross_val_score(RandomForestClassifier(),x,y,cv=5)\n",
        "print(ACC_test_rf)\n"
      ],
      "execution_count": null,
      "outputs": []
    },
    {
      "cell_type": "code",
      "metadata": {
        "id": "xzEGcXC81dWb",
        "colab_type": "code",
        "colab": {}
      },
      "source": [
        "####### try this with cross_val\n",
        "from sklearn.model_selection import StratifiedKFold\n",
        "\n",
        "ACC_test_rf4 = cross_val_score(RandomForestClassifier(),x,y,cv=StratifiedKFold(n_splits=5, shuffle=True))\n",
        "print(ACC_test_rf4)"
      ],
      "execution_count": null,
      "outputs": []
    },
    {
      "cell_type": "code",
      "metadata": {
        "id": "SSfngAckpEoV",
        "colab_type": "code",
        "colab": {
          "base_uri": "https://localhost:8080/",
          "height": 423
        },
        "outputId": "961c4053-813d-442b-c5eb-51393ddeb41e"
      },
      "source": [
        "# ####trying to improve RandomForest by tuning hyperparameters\n",
        "\n",
        "# from sklearn.model_selection import RandomizedSearchCV\n",
        "# # number of trees in random forest\n",
        "# n_estimators = [int(x) for x in np.linspace(start = 200, stop = 2000, num = 10)]\n",
        "# # number of features at every split\n",
        "# max_features = ['auto', 'sqrt']\n",
        "\n",
        "# # max depth\n",
        "# max_depth = [int(x) for x in np.linspace(100, 500, num = 11)]\n",
        "# max_depth.append(None)\n",
        "# # create random grid\n",
        "# random_grid = {\n",
        "# 'n_estimators': n_estimators,\n",
        "# 'max_features': max_features,\n",
        "# 'max_depth': max_depth\n",
        "#  }\n",
        "# # Random search of parameters\n",
        "# rfc_random = RandomizedSearchCV(estimator = model_rf, param_distributions = random_grid, n_iter = 100, cv = 3, verbose=2, random_state=42, n_jobs = -1)\n",
        "# # Fit the model\n",
        "# rfc_random.fit(x_train, y_train)\n",
        "# # print results\n",
        "# print(rfc_random.best_params_)"
      ],
      "execution_count": null,
      "outputs": [
        {
          "output_type": "stream",
          "text": [
            "Fitting 3 folds for each of 100 candidates, totalling 300 fits\n"
          ],
          "name": "stdout"
        },
        {
          "output_type": "stream",
          "text": [
            "[Parallel(n_jobs=-1)]: Using backend LokyBackend with 2 concurrent workers.\n"
          ],
          "name": "stderr"
        },
        {
          "output_type": "error",
          "ename": "KeyboardInterrupt",
          "evalue": "ignored",
          "traceback": [
            "\u001b[0;31m---------------------------------------------------------------------------\u001b[0m",
            "\u001b[0;31mKeyboardInterrupt\u001b[0m                         Traceback (most recent call last)",
            "\u001b[0;32m<ipython-input-10-57952cae3bb9>\u001b[0m in \u001b[0;36m<module>\u001b[0;34m()\u001b[0m\n\u001b[1;32m     19\u001b[0m \u001b[0mrfc_random\u001b[0m \u001b[0;34m=\u001b[0m \u001b[0mRandomizedSearchCV\u001b[0m\u001b[0;34m(\u001b[0m\u001b[0mestimator\u001b[0m \u001b[0;34m=\u001b[0m \u001b[0mmodel_rf\u001b[0m\u001b[0;34m,\u001b[0m \u001b[0mparam_distributions\u001b[0m \u001b[0;34m=\u001b[0m \u001b[0mrandom_grid\u001b[0m\u001b[0;34m,\u001b[0m \u001b[0mn_iter\u001b[0m \u001b[0;34m=\u001b[0m \u001b[0;36m100\u001b[0m\u001b[0;34m,\u001b[0m \u001b[0mcv\u001b[0m \u001b[0;34m=\u001b[0m \u001b[0;36m3\u001b[0m\u001b[0;34m,\u001b[0m \u001b[0mverbose\u001b[0m\u001b[0;34m=\u001b[0m\u001b[0;36m2\u001b[0m\u001b[0;34m,\u001b[0m \u001b[0mrandom_state\u001b[0m\u001b[0;34m=\u001b[0m\u001b[0;36m42\u001b[0m\u001b[0;34m,\u001b[0m \u001b[0mn_jobs\u001b[0m \u001b[0;34m=\u001b[0m \u001b[0;34m-\u001b[0m\u001b[0;36m1\u001b[0m\u001b[0;34m)\u001b[0m\u001b[0;34m\u001b[0m\u001b[0;34m\u001b[0m\u001b[0m\n\u001b[1;32m     20\u001b[0m \u001b[0;31m# Fit the model\u001b[0m\u001b[0;34m\u001b[0m\u001b[0;34m\u001b[0m\u001b[0;34m\u001b[0m\u001b[0m\n\u001b[0;32m---> 21\u001b[0;31m \u001b[0mrfc_random\u001b[0m\u001b[0;34m.\u001b[0m\u001b[0mfit\u001b[0m\u001b[0;34m(\u001b[0m\u001b[0mx_train\u001b[0m\u001b[0;34m,\u001b[0m \u001b[0my_train\u001b[0m\u001b[0;34m)\u001b[0m\u001b[0;34m\u001b[0m\u001b[0;34m\u001b[0m\u001b[0m\n\u001b[0m\u001b[1;32m     22\u001b[0m \u001b[0;31m# print results\u001b[0m\u001b[0;34m\u001b[0m\u001b[0;34m\u001b[0m\u001b[0;34m\u001b[0m\u001b[0m\n\u001b[1;32m     23\u001b[0m \u001b[0mprint\u001b[0m\u001b[0;34m(\u001b[0m\u001b[0mrfc_random\u001b[0m\u001b[0;34m.\u001b[0m\u001b[0mbest_params_\u001b[0m\u001b[0;34m)\u001b[0m\u001b[0;34m\u001b[0m\u001b[0;34m\u001b[0m\u001b[0m\n",
            "\u001b[0;32m/usr/local/lib/python3.6/dist-packages/sklearn/model_selection/_search.py\u001b[0m in \u001b[0;36mfit\u001b[0;34m(self, X, y, groups, **fit_params)\u001b[0m\n\u001b[1;32m    708\u001b[0m                 \u001b[0;32mreturn\u001b[0m \u001b[0mresults\u001b[0m\u001b[0;34m\u001b[0m\u001b[0;34m\u001b[0m\u001b[0m\n\u001b[1;32m    709\u001b[0m \u001b[0;34m\u001b[0m\u001b[0m\n\u001b[0;32m--> 710\u001b[0;31m             \u001b[0mself\u001b[0m\u001b[0;34m.\u001b[0m\u001b[0m_run_search\u001b[0m\u001b[0;34m(\u001b[0m\u001b[0mevaluate_candidates\u001b[0m\u001b[0;34m)\u001b[0m\u001b[0;34m\u001b[0m\u001b[0;34m\u001b[0m\u001b[0m\n\u001b[0m\u001b[1;32m    711\u001b[0m \u001b[0;34m\u001b[0m\u001b[0m\n\u001b[1;32m    712\u001b[0m         \u001b[0;31m# For multi-metric evaluation, store the best_index_, best_params_ and\u001b[0m\u001b[0;34m\u001b[0m\u001b[0;34m\u001b[0m\u001b[0;34m\u001b[0m\u001b[0m\n",
            "\u001b[0;32m/usr/local/lib/python3.6/dist-packages/sklearn/model_selection/_search.py\u001b[0m in \u001b[0;36m_run_search\u001b[0;34m(self, evaluate_candidates)\u001b[0m\n\u001b[1;32m   1482\u001b[0m         evaluate_candidates(ParameterSampler(\n\u001b[1;32m   1483\u001b[0m             \u001b[0mself\u001b[0m\u001b[0;34m.\u001b[0m\u001b[0mparam_distributions\u001b[0m\u001b[0;34m,\u001b[0m \u001b[0mself\u001b[0m\u001b[0;34m.\u001b[0m\u001b[0mn_iter\u001b[0m\u001b[0;34m,\u001b[0m\u001b[0;34m\u001b[0m\u001b[0;34m\u001b[0m\u001b[0m\n\u001b[0;32m-> 1484\u001b[0;31m             random_state=self.random_state))\n\u001b[0m",
            "\u001b[0;32m/usr/local/lib/python3.6/dist-packages/sklearn/model_selection/_search.py\u001b[0m in \u001b[0;36mevaluate_candidates\u001b[0;34m(candidate_params)\u001b[0m\n\u001b[1;32m    687\u001b[0m                                \u001b[0;32mfor\u001b[0m \u001b[0mparameters\u001b[0m\u001b[0;34m,\u001b[0m \u001b[0;34m(\u001b[0m\u001b[0mtrain\u001b[0m\u001b[0;34m,\u001b[0m \u001b[0mtest\u001b[0m\u001b[0;34m)\u001b[0m\u001b[0;34m\u001b[0m\u001b[0;34m\u001b[0m\u001b[0m\n\u001b[1;32m    688\u001b[0m                                in product(candidate_params,\n\u001b[0;32m--> 689\u001b[0;31m                                           cv.split(X, y, groups)))\n\u001b[0m\u001b[1;32m    690\u001b[0m \u001b[0;34m\u001b[0m\u001b[0m\n\u001b[1;32m    691\u001b[0m                 \u001b[0;32mif\u001b[0m \u001b[0mlen\u001b[0m\u001b[0;34m(\u001b[0m\u001b[0mout\u001b[0m\u001b[0;34m)\u001b[0m \u001b[0;34m<\u001b[0m \u001b[0;36m1\u001b[0m\u001b[0;34m:\u001b[0m\u001b[0;34m\u001b[0m\u001b[0;34m\u001b[0m\u001b[0m\n",
            "\u001b[0;32m/usr/local/lib/python3.6/dist-packages/joblib/parallel.py\u001b[0m in \u001b[0;36m__call__\u001b[0;34m(self, iterable)\u001b[0m\n\u001b[1;32m   1040\u001b[0m \u001b[0;34m\u001b[0m\u001b[0m\n\u001b[1;32m   1041\u001b[0m             \u001b[0;32mwith\u001b[0m \u001b[0mself\u001b[0m\u001b[0;34m.\u001b[0m\u001b[0m_backend\u001b[0m\u001b[0;34m.\u001b[0m\u001b[0mretrieval_context\u001b[0m\u001b[0;34m(\u001b[0m\u001b[0;34m)\u001b[0m\u001b[0;34m:\u001b[0m\u001b[0;34m\u001b[0m\u001b[0;34m\u001b[0m\u001b[0m\n\u001b[0;32m-> 1042\u001b[0;31m                 \u001b[0mself\u001b[0m\u001b[0;34m.\u001b[0m\u001b[0mretrieve\u001b[0m\u001b[0;34m(\u001b[0m\u001b[0;34m)\u001b[0m\u001b[0;34m\u001b[0m\u001b[0;34m\u001b[0m\u001b[0m\n\u001b[0m\u001b[1;32m   1043\u001b[0m             \u001b[0;31m# Make sure that we get a last message telling us we are done\u001b[0m\u001b[0;34m\u001b[0m\u001b[0;34m\u001b[0m\u001b[0;34m\u001b[0m\u001b[0m\n\u001b[1;32m   1044\u001b[0m             \u001b[0melapsed_time\u001b[0m \u001b[0;34m=\u001b[0m \u001b[0mtime\u001b[0m\u001b[0;34m.\u001b[0m\u001b[0mtime\u001b[0m\u001b[0;34m(\u001b[0m\u001b[0;34m)\u001b[0m \u001b[0;34m-\u001b[0m \u001b[0mself\u001b[0m\u001b[0;34m.\u001b[0m\u001b[0m_start_time\u001b[0m\u001b[0;34m\u001b[0m\u001b[0;34m\u001b[0m\u001b[0m\n",
            "\u001b[0;32m/usr/local/lib/python3.6/dist-packages/joblib/parallel.py\u001b[0m in \u001b[0;36mretrieve\u001b[0;34m(self)\u001b[0m\n\u001b[1;32m    919\u001b[0m             \u001b[0;32mtry\u001b[0m\u001b[0;34m:\u001b[0m\u001b[0;34m\u001b[0m\u001b[0;34m\u001b[0m\u001b[0m\n\u001b[1;32m    920\u001b[0m                 \u001b[0;32mif\u001b[0m \u001b[0mgetattr\u001b[0m\u001b[0;34m(\u001b[0m\u001b[0mself\u001b[0m\u001b[0;34m.\u001b[0m\u001b[0m_backend\u001b[0m\u001b[0;34m,\u001b[0m \u001b[0;34m'supports_timeout'\u001b[0m\u001b[0;34m,\u001b[0m \u001b[0;32mFalse\u001b[0m\u001b[0;34m)\u001b[0m\u001b[0;34m:\u001b[0m\u001b[0;34m\u001b[0m\u001b[0;34m\u001b[0m\u001b[0m\n\u001b[0;32m--> 921\u001b[0;31m                     \u001b[0mself\u001b[0m\u001b[0;34m.\u001b[0m\u001b[0m_output\u001b[0m\u001b[0;34m.\u001b[0m\u001b[0mextend\u001b[0m\u001b[0;34m(\u001b[0m\u001b[0mjob\u001b[0m\u001b[0;34m.\u001b[0m\u001b[0mget\u001b[0m\u001b[0;34m(\u001b[0m\u001b[0mtimeout\u001b[0m\u001b[0;34m=\u001b[0m\u001b[0mself\u001b[0m\u001b[0;34m.\u001b[0m\u001b[0mtimeout\u001b[0m\u001b[0;34m)\u001b[0m\u001b[0;34m)\u001b[0m\u001b[0;34m\u001b[0m\u001b[0;34m\u001b[0m\u001b[0m\n\u001b[0m\u001b[1;32m    922\u001b[0m                 \u001b[0;32melse\u001b[0m\u001b[0;34m:\u001b[0m\u001b[0;34m\u001b[0m\u001b[0;34m\u001b[0m\u001b[0m\n\u001b[1;32m    923\u001b[0m                     \u001b[0mself\u001b[0m\u001b[0;34m.\u001b[0m\u001b[0m_output\u001b[0m\u001b[0;34m.\u001b[0m\u001b[0mextend\u001b[0m\u001b[0;34m(\u001b[0m\u001b[0mjob\u001b[0m\u001b[0;34m.\u001b[0m\u001b[0mget\u001b[0m\u001b[0;34m(\u001b[0m\u001b[0;34m)\u001b[0m\u001b[0;34m)\u001b[0m\u001b[0;34m\u001b[0m\u001b[0;34m\u001b[0m\u001b[0m\n",
            "\u001b[0;32m/usr/local/lib/python3.6/dist-packages/joblib/_parallel_backends.py\u001b[0m in \u001b[0;36mwrap_future_result\u001b[0;34m(future, timeout)\u001b[0m\n\u001b[1;32m    538\u001b[0m         AsyncResults.get from multiprocessing.\"\"\"\n\u001b[1;32m    539\u001b[0m         \u001b[0;32mtry\u001b[0m\u001b[0;34m:\u001b[0m\u001b[0;34m\u001b[0m\u001b[0;34m\u001b[0m\u001b[0m\n\u001b[0;32m--> 540\u001b[0;31m             \u001b[0;32mreturn\u001b[0m \u001b[0mfuture\u001b[0m\u001b[0;34m.\u001b[0m\u001b[0mresult\u001b[0m\u001b[0;34m(\u001b[0m\u001b[0mtimeout\u001b[0m\u001b[0;34m=\u001b[0m\u001b[0mtimeout\u001b[0m\u001b[0;34m)\u001b[0m\u001b[0;34m\u001b[0m\u001b[0;34m\u001b[0m\u001b[0m\n\u001b[0m\u001b[1;32m    541\u001b[0m         \u001b[0;32mexcept\u001b[0m \u001b[0mCfTimeoutError\u001b[0m\u001b[0;34m:\u001b[0m\u001b[0;34m\u001b[0m\u001b[0;34m\u001b[0m\u001b[0m\n\u001b[1;32m    542\u001b[0m             \u001b[0;32mraise\u001b[0m \u001b[0mTimeoutError\u001b[0m\u001b[0;34m(\u001b[0m\u001b[0;34m)\u001b[0m\u001b[0;34m\u001b[0m\u001b[0;34m\u001b[0m\u001b[0m\n",
            "\u001b[0;32m/usr/lib/python3.6/concurrent/futures/_base.py\u001b[0m in \u001b[0;36mresult\u001b[0;34m(self, timeout)\u001b[0m\n\u001b[1;32m    425\u001b[0m                 \u001b[0;32mreturn\u001b[0m \u001b[0mself\u001b[0m\u001b[0;34m.\u001b[0m\u001b[0m__get_result\u001b[0m\u001b[0;34m(\u001b[0m\u001b[0;34m)\u001b[0m\u001b[0;34m\u001b[0m\u001b[0;34m\u001b[0m\u001b[0m\n\u001b[1;32m    426\u001b[0m \u001b[0;34m\u001b[0m\u001b[0m\n\u001b[0;32m--> 427\u001b[0;31m             \u001b[0mself\u001b[0m\u001b[0;34m.\u001b[0m\u001b[0m_condition\u001b[0m\u001b[0;34m.\u001b[0m\u001b[0mwait\u001b[0m\u001b[0;34m(\u001b[0m\u001b[0mtimeout\u001b[0m\u001b[0;34m)\u001b[0m\u001b[0;34m\u001b[0m\u001b[0;34m\u001b[0m\u001b[0m\n\u001b[0m\u001b[1;32m    428\u001b[0m \u001b[0;34m\u001b[0m\u001b[0m\n\u001b[1;32m    429\u001b[0m             \u001b[0;32mif\u001b[0m \u001b[0mself\u001b[0m\u001b[0;34m.\u001b[0m\u001b[0m_state\u001b[0m \u001b[0;32min\u001b[0m \u001b[0;34m[\u001b[0m\u001b[0mCANCELLED\u001b[0m\u001b[0;34m,\u001b[0m \u001b[0mCANCELLED_AND_NOTIFIED\u001b[0m\u001b[0;34m]\u001b[0m\u001b[0;34m:\u001b[0m\u001b[0;34m\u001b[0m\u001b[0;34m\u001b[0m\u001b[0m\n",
            "\u001b[0;32m/usr/lib/python3.6/threading.py\u001b[0m in \u001b[0;36mwait\u001b[0;34m(self, timeout)\u001b[0m\n\u001b[1;32m    293\u001b[0m         \u001b[0;32mtry\u001b[0m\u001b[0;34m:\u001b[0m    \u001b[0;31m# restore state no matter what (e.g., KeyboardInterrupt)\u001b[0m\u001b[0;34m\u001b[0m\u001b[0;34m\u001b[0m\u001b[0m\n\u001b[1;32m    294\u001b[0m             \u001b[0;32mif\u001b[0m \u001b[0mtimeout\u001b[0m \u001b[0;32mis\u001b[0m \u001b[0;32mNone\u001b[0m\u001b[0;34m:\u001b[0m\u001b[0;34m\u001b[0m\u001b[0;34m\u001b[0m\u001b[0m\n\u001b[0;32m--> 295\u001b[0;31m                 \u001b[0mwaiter\u001b[0m\u001b[0;34m.\u001b[0m\u001b[0macquire\u001b[0m\u001b[0;34m(\u001b[0m\u001b[0;34m)\u001b[0m\u001b[0;34m\u001b[0m\u001b[0;34m\u001b[0m\u001b[0m\n\u001b[0m\u001b[1;32m    296\u001b[0m                 \u001b[0mgotit\u001b[0m \u001b[0;34m=\u001b[0m \u001b[0;32mTrue\u001b[0m\u001b[0;34m\u001b[0m\u001b[0;34m\u001b[0m\u001b[0m\n\u001b[1;32m    297\u001b[0m             \u001b[0;32melse\u001b[0m\u001b[0;34m:\u001b[0m\u001b[0;34m\u001b[0m\u001b[0;34m\u001b[0m\u001b[0m\n",
            "\u001b[0;31mKeyboardInterrupt\u001b[0m: "
          ]
        }
      ]
    },
    {
      "cell_type": "markdown",
      "metadata": {
        "id": "5LbL49wFhUcg",
        "colab_type": "text"
      },
      "source": [
        ""
      ]
    },
    {
      "cell_type": "code",
      "metadata": {
        "id": "mf7xdiebvCPK",
        "colab_type": "code",
        "colab": {}
      },
      "source": [
        "# ### insert the values returned from the above code\n",
        "# rfc = RandomForestClassifier(n_estimators=600, max_depth=300, max_features='sqrt')\n",
        "# rfc.fit(X_train,y_train)\n",
        "# rfc_predict = rfc.predict(X_test)\n",
        "# rfc_cv_score = cross_val_score(rfc, X, y, cv=10, scoring='roc_auc')\n",
        "# print(\"=== Confusion Matrix ===\")\n",
        "# print(confusion_matrix(y_test, rfc_predict))\n",
        "# print('\\n')\n",
        "# print(\"=== Classification Report ===\")\n",
        "# print(classification_report(y_test, rfc_predict))\n",
        "# print('\\n')\n",
        "# print(\"=== All AUC Scores ===\")\n",
        "# print(rfc_cv_score)\n",
        "# print('\\n')\n",
        "# print(\"=== Mean AUC Score ===\")\n",
        "# print(\"Mean AUC Score - Random Forest: \", rfc_cv_score.mean())"
      ],
      "execution_count": null,
      "outputs": []
    },
    {
      "cell_type": "code",
      "metadata": {
        "id": "4ZDRDfWmjyGR",
        "colab_type": "code",
        "colab": {
          "base_uri": "https://localhost:8080/",
          "height": 54
        },
        "outputId": "3c99d0b4-dc98-45a8-bcdd-1b70bb99381c"
      },
      "source": [
        "## Another way#############\n",
        "\n",
        "from sklearn.model_selection import RandomizedSearchCV\n",
        "# Number of trees in random forest\n",
        "n_estimators = [int(x) for x in np.linspace(start = 200, stop = 2000, num = 10)]\n",
        "# Number of features to consider at every split\n",
        "max_features = ['auto', 'sqrt']\n",
        "# Maximum number of levels in tree\n",
        "max_depth = [int(x) for x in np.linspace(10, 110, num = 11)]\n",
        "max_depth.append(None)\n",
        "# Minimum number of samples required to split a node\n",
        "min_samples_split = [2, 5, 10]\n",
        "# Minimum number of samples required at each leaf node\n",
        "min_samples_leaf = [1, 2, 4]\n",
        "# Method of selecting samples for training each tree\n",
        "bootstrap = [True, False]\n",
        "# Create the random grid\n",
        "random_grid = {'n_estimators': n_estimators,\n",
        "               'max_features': max_features,\n",
        "               'max_depth': max_depth,\n",
        "               'min_samples_split': min_samples_split,\n",
        "               'min_samples_leaf': min_samples_leaf,\n",
        "               'bootstrap': bootstrap}\n",
        "print(random_grid)"
      ],
      "execution_count": 11,
      "outputs": [
        {
          "output_type": "stream",
          "text": [
            "{'n_estimators': [200, 400, 600, 800, 1000, 1200, 1400, 1600, 1800, 2000], 'max_features': ['auto', 'sqrt'], 'max_depth': [10, 20, 30, 40, 50, 60, 70, 80, 90, 100, 110, None], 'min_samples_split': [2, 5, 10], 'min_samples_leaf': [1, 2, 4], 'bootstrap': [True, False]}\n"
          ],
          "name": "stdout"
        }
      ]
    },
    {
      "cell_type": "code",
      "metadata": {
        "id": "Gec9XfV6C-mo",
        "colab_type": "code",
        "colab": {
          "base_uri": "https://localhost:8080/",
          "height": 52
        },
        "outputId": "4fed02a0-56b4-4de5-bfb7-44a2211ef853"
      },
      "source": [
        "# Use the random grid to search for best hyperparameters\n",
        "# First create the base model to tune\n",
        "rf = RandomForestClassifier()\n",
        "# Random search of parameters, using 3 fold cross validation, \n",
        "# search across 100 different combinations, and use all available cores\n",
        "rf_random = RandomizedSearchCV(estimator = model_rf, param_distributions = random_grid, n_iter = 100, cv = 3, verbose=2, random_state=42, n_jobs = -1)\n",
        "# Fit the random search model\n",
        "rf_random.fit(x_train, y_train)"
      ],
      "execution_count": null,
      "outputs": [
        {
          "output_type": "stream",
          "text": [
            "Fitting 3 folds for each of 100 candidates, totalling 300 fits\n"
          ],
          "name": "stdout"
        },
        {
          "output_type": "stream",
          "text": [
            "[Parallel(n_jobs=-1)]: Using backend LokyBackend with 2 concurrent workers.\n"
          ],
          "name": "stderr"
        }
      ]
    },
    {
      "cell_type": "code",
      "metadata": {
        "id": "FQBdaIFAJx1o",
        "colab_type": "code",
        "colab": {}
      },
      "source": [
        "from sklearn.model_selection import cross_val_score\n",
        "\n",
        "##LR\n",
        "from sklearn.linear_model import LogisticRegression\n",
        "ACC_test_lr = cross_val_score(LogisticRegression(),x,y)\n",
        "\n",
        "##DT\n",
        "from sklearn.tree import DecisionTreeClassifier\n",
        "ACC_test_dt = cross_val_score(DecisionTreeClassifier(),x,y)\n",
        "\n",
        "##SVM\n",
        "from sklearn.svm import SVC\n",
        "ACC_test_svm = cross_val_score(SVC(),x,y)\n",
        "\n",
        "##RF\n",
        "from sklearn.ensemble import RandomForestClassifier\n",
        "ACC_test_rf = cross_val_score(RandomForestClassifier(),x,y)\n",
        "\n",
        "##NB\n",
        "from sklearn.naive_bayes import GaussianNB\n",
        "ACC_test_nb = cross_val_score(GaussianNB(),x,y)\n",
        "\n",
        "ACC_test_lr_mean = np.mean(ACC_test_lr);\n",
        "ACC_test_dt_mean = np.mean(ACC_test_dt);\n",
        "ACC_test_svm_mean = np.mean(ACC_test_svm);\n",
        "ACC_test_rf_mean = np.mean(ACC_test_rf);\n",
        "ACC_test_nb_mean = np.mean(ACC_test_nb);\n",
        "\n",
        "from prettytable import PrettyTable\n",
        "t = PrettyTable(['KVC Accuracy', 'Logistic (%)' , 'DT (%)' , 'SVM (%)' , 'RF (%)', 'NB (%)'])\n",
        "t.add_row(['Testing', ACC_test_lr_mean*100, ACC_test_dt_mean*100, ACC_test_svm_mean*100, ACC_test_rf_mean*100, ACC_test_nb_mean*100])\n",
        "print(t)"
      ],
      "execution_count": null,
      "outputs": []
    },
    {
      "cell_type": "code",
      "metadata": {
        "id": "GmWuYRrcJiT7",
        "colab_type": "code",
        "colab": {}
      },
      "source": [
        "from prettytable import PrettyTable\n",
        "t2 = PrettyTable(['Accuracy', 'Logistic (%)' , 'DT (%)' , 'SVM (%)' , 'RF (%)' , 'NB (%)'])\n",
        "t2.add_row(['accuracy_score', lr_accuracy_score*100, dt_accuracy_score*100, svm_accuracy_score*100, rf_accuracy_score*100 , nb_accuracy_score*100])\n",
        "t2.add_row(['f1_score',       lr_f1_score*100      , dt_f1_score*100      , svm_f1_score*100       , rf_f1_score*100       , nb_f1_score*100]      )\n",
        "t2.add_row(['recall_score',   lr_recall_score*100  , dt_recall_score*100  , svm_recall_score*100  , rf_recall_score*100   , nb_recall_score*100]  )\n",
        "print(t2)"
      ],
      "execution_count": null,
      "outputs": []
    },
    {
      "cell_type": "code",
      "metadata": {
        "id": "LR6Op7nFJv9N",
        "colab_type": "code",
        "colab": {}
      },
      "source": [
        ""
      ],
      "execution_count": null,
      "outputs": []
    },
    {
      "cell_type": "markdown",
      "metadata": {
        "id": "EzCP1zFLPB0-",
        "colab_type": "text"
      },
      "source": [
        "# To Be\n",
        "\n",
        "*   ECDF\n",
        "*   K-FOLD\n",
        "*   Data Hacke ( re-sampling) \n",
        "\n",
        "\n",
        "\n",
        "\n",
        "\n",
        "\n",
        "\n"
      ]
    }
  ]
}